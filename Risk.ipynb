{
  "nbformat": 4,
  "nbformat_minor": 0,
  "metadata": {
    "colab": {
      "name": "Risk.ipynb",
      "provenance": [],
      "collapsed_sections": [
        "W6bqHVwIhPZ6",
        "8iG6dBEAb2gp",
        "mgEuC8mdK7tm",
        "yPnqjqvOJDGS",
        "RO7dMoP0f_Fb",
        "dwi0fwVCRoQP",
        "vhnFUpfgcGGO",
        "70qHxby8flZN",
        "rn3hw2K72N-u",
        "17iB8Vo61kG2",
        "-ruX7UiDrhzs"
      ]
    },
    "kernelspec": {
      "name": "python3",
      "display_name": "Python 3"
    }
  },
  "cells": [
    {
      "cell_type": "markdown",
      "metadata": {
        "id": "tWNgmlar8StQ"
      },
      "source": [
        "# **Value-at-Risk:**\n",
        "\n"
      ]
    },
    {
      "cell_type": "markdown",
      "metadata": {
        "id": "SkJEDQbIkHrp"
      },
      "source": [
        "What risk is my portfolio under? What is the most I can lose? These are questions investors are/should constantly ask themselves (at least when they take a break).\n",
        "\n",
        "### what is value-at-risk?\n",
        "It measures the potential loss of a single asset or a portfolio (several assets) given a period of time and a confidence interval. In brief, it shoudl answer the question: what could be my maximum loss with 95% of confidence?\n",
        "It is sometimes defined as the the possible loss in value resulting from 'normal market risk'.\n",
        "\n",
        "There are 3 main approaches to compute value-at-risk (with some variation within each):\n",
        "\n",
        "\n",
        "1.   variance-covariance method\n",
        "2.   historical data\n",
        "3.   Monte-Carlo simulations\n",
        "\n",
        "Let's first dive into these 3 methods before introducing a new risk metric using Gaussian Mixture Models.\n",
        "\n"
      ]
    },
    {
      "cell_type": "markdown",
      "metadata": {
        "id": "W6bqHVwIhPZ6"
      },
      "source": [
        "## **Build the portfolio:**"
      ]
    },
    {
      "cell_type": "code",
      "metadata": {
        "id": "LzMHQMOApb_K",
        "outputId": "e294629d-eb81-4bdb-d233-8dcc41f0bdcf",
        "colab": {
          "base_uri": "https://localhost:8080/"
        }
      },
      "source": [
        "!pip install yfinance\n",
        "import yfinance as yf \n",
        "import numpy as np\n",
        "import matplotlib.pyplot as plt\n",
        "import pandas as pd\n"
      ],
      "execution_count": null,
      "outputs": [
        {
          "output_type": "stream",
          "text": [
            "Collecting yfinance\n",
            "  Downloading https://files.pythonhosted.org/packages/7a/e8/b9d7104d3a4bf39924799067592d9e59119fcfc900a425a12e80a3123ec8/yfinance-0.1.55.tar.gz\n",
            "Requirement already satisfied: pandas>=0.24 in /usr/local/lib/python3.6/dist-packages (from yfinance) (1.1.4)\n",
            "Requirement already satisfied: numpy>=1.15 in /usr/local/lib/python3.6/dist-packages (from yfinance) (1.18.5)\n",
            "Requirement already satisfied: requests>=2.20 in /usr/local/lib/python3.6/dist-packages (from yfinance) (2.23.0)\n",
            "Requirement already satisfied: multitasking>=0.0.7 in /usr/local/lib/python3.6/dist-packages (from yfinance) (0.0.9)\n",
            "Collecting lxml>=4.5.1\n",
            "\u001b[?25l  Downloading https://files.pythonhosted.org/packages/64/28/0b761b64ecbd63d272ed0e7a6ae6e4402fc37886b59181bfdf274424d693/lxml-4.6.1-cp36-cp36m-manylinux1_x86_64.whl (5.5MB)\n",
            "\u001b[K     |████████████████████████████████| 5.5MB 6.2MB/s \n",
            "\u001b[?25hRequirement already satisfied: pytz>=2017.2 in /usr/local/lib/python3.6/dist-packages (from pandas>=0.24->yfinance) (2018.9)\n",
            "Requirement already satisfied: python-dateutil>=2.7.3 in /usr/local/lib/python3.6/dist-packages (from pandas>=0.24->yfinance) (2.8.1)\n",
            "Requirement already satisfied: urllib3!=1.25.0,!=1.25.1,<1.26,>=1.21.1 in /usr/local/lib/python3.6/dist-packages (from requests>=2.20->yfinance) (1.24.3)\n",
            "Requirement already satisfied: idna<3,>=2.5 in /usr/local/lib/python3.6/dist-packages (from requests>=2.20->yfinance) (2.10)\n",
            "Requirement already satisfied: certifi>=2017.4.17 in /usr/local/lib/python3.6/dist-packages (from requests>=2.20->yfinance) (2020.6.20)\n",
            "Requirement already satisfied: chardet<4,>=3.0.2 in /usr/local/lib/python3.6/dist-packages (from requests>=2.20->yfinance) (3.0.4)\n",
            "Requirement already satisfied: six>=1.5 in /usr/local/lib/python3.6/dist-packages (from python-dateutil>=2.7.3->pandas>=0.24->yfinance) (1.15.0)\n",
            "Building wheels for collected packages: yfinance\n",
            "  Building wheel for yfinance (setup.py) ... \u001b[?25l\u001b[?25hdone\n",
            "  Created wheel for yfinance: filename=yfinance-0.1.55-py2.py3-none-any.whl size=22618 sha256=142660e6e4dec66803c794052e64e03d29b93c35b7c2758d9a9c81f3e9d8f21e\n",
            "  Stored in directory: /root/.cache/pip/wheels/04/98/cc/2702a4242d60bdc14f48b4557c427ded1fe92aedf257d4565c\n",
            "Successfully built yfinance\n",
            "Installing collected packages: lxml, yfinance\n",
            "  Found existing installation: lxml 4.2.6\n",
            "    Uninstalling lxml-4.2.6:\n",
            "      Successfully uninstalled lxml-4.2.6\n",
            "Successfully installed lxml-4.6.1 yfinance-0.1.55\n"
          ],
          "name": "stdout"
        }
      ]
    },
    {
      "cell_type": "code",
      "metadata": {
        "id": "_-8LJeDUhedY",
        "outputId": "e042d6c8-1cc3-4626-ab3d-8ed08aec6c6b",
        "colab": {
          "base_uri": "https://localhost:8080/"
        }
      },
      "source": [
        "tickers = ['AMD', 'NFLX', 'NKE']\n",
        "\n",
        "data = yf.download(tickers, period='5y', auto_adjust=True)\n"
      ],
      "execution_count": null,
      "outputs": [
        {
          "output_type": "stream",
          "text": [
            "[*********************100%***********************]  3 of 3 completed\n"
          ],
          "name": "stdout"
        }
      ]
    },
    {
      "cell_type": "code",
      "metadata": {
        "id": "dmFf2nCOjUEh",
        "outputId": "3384502e-a404-409a-ba6f-f5d7a8c4e73a",
        "colab": {
          "base_uri": "https://localhost:8080/"
        }
      },
      "source": [
        "data"
      ],
      "execution_count": null,
      "outputs": [
        {
          "output_type": "execute_result",
          "data": {
            "text/html": [
              "<div>\n",
              "<style scoped>\n",
              "    .dataframe tbody tr th:only-of-type {\n",
              "        vertical-align: middle;\n",
              "    }\n",
              "\n",
              "    .dataframe tbody tr th {\n",
              "        vertical-align: top;\n",
              "    }\n",
              "\n",
              "    .dataframe thead tr th {\n",
              "        text-align: left;\n",
              "    }\n",
              "\n",
              "    .dataframe thead tr:last-of-type th {\n",
              "        text-align: right;\n",
              "    }\n",
              "</style>\n",
              "<table border=\"1\" class=\"dataframe\">\n",
              "  <thead>\n",
              "    <tr>\n",
              "      <th></th>\n",
              "      <th colspan=\"3\" halign=\"left\">Close</th>\n",
              "      <th colspan=\"3\" halign=\"left\">High</th>\n",
              "      <th colspan=\"3\" halign=\"left\">Low</th>\n",
              "      <th colspan=\"3\" halign=\"left\">Open</th>\n",
              "      <th colspan=\"3\" halign=\"left\">Volume</th>\n",
              "    </tr>\n",
              "    <tr>\n",
              "      <th></th>\n",
              "      <th>AMD</th>\n",
              "      <th>NFLX</th>\n",
              "      <th>NKE</th>\n",
              "      <th>AMD</th>\n",
              "      <th>NFLX</th>\n",
              "      <th>NKE</th>\n",
              "      <th>AMD</th>\n",
              "      <th>NFLX</th>\n",
              "      <th>NKE</th>\n",
              "      <th>AMD</th>\n",
              "      <th>NFLX</th>\n",
              "      <th>NKE</th>\n",
              "      <th>AMD</th>\n",
              "      <th>NFLX</th>\n",
              "      <th>NKE</th>\n",
              "    </tr>\n",
              "    <tr>\n",
              "      <th>Date</th>\n",
              "      <th></th>\n",
              "      <th></th>\n",
              "      <th></th>\n",
              "      <th></th>\n",
              "      <th></th>\n",
              "      <th></th>\n",
              "      <th></th>\n",
              "      <th></th>\n",
              "      <th></th>\n",
              "      <th></th>\n",
              "      <th></th>\n",
              "      <th></th>\n",
              "      <th></th>\n",
              "      <th></th>\n",
              "      <th></th>\n",
              "    </tr>\n",
              "  </thead>\n",
              "  <tbody>\n",
              "    <tr>\n",
              "      <th>2015-11-13</th>\n",
              "      <td>1.990000</td>\n",
              "      <td>103.650002</td>\n",
              "      <td>57.269287</td>\n",
              "      <td>2.040000</td>\n",
              "      <td>109.070000</td>\n",
              "      <td>58.848352</td>\n",
              "      <td>1.940000</td>\n",
              "      <td>103.269997</td>\n",
              "      <td>56.935616</td>\n",
              "      <td>1.990000</td>\n",
              "      <td>108.339996</td>\n",
              "      <td>58.782558</td>\n",
              "      <td>5920200</td>\n",
              "      <td>18819400</td>\n",
              "      <td>16371000</td>\n",
              "    </tr>\n",
              "    <tr>\n",
              "      <th>2015-11-16</th>\n",
              "      <td>1.990000</td>\n",
              "      <td>111.349998</td>\n",
              "      <td>58.021221</td>\n",
              "      <td>2.020000</td>\n",
              "      <td>111.650002</td>\n",
              "      <td>58.030622</td>\n",
              "      <td>1.950000</td>\n",
              "      <td>101.860001</td>\n",
              "      <td>57.024905</td>\n",
              "      <td>1.990000</td>\n",
              "      <td>102.970001</td>\n",
              "      <td>57.241090</td>\n",
              "      <td>4149700</td>\n",
              "      <td>19866200</td>\n",
              "      <td>9146400</td>\n",
              "    </tr>\n",
              "    <tr>\n",
              "      <th>2015-11-17</th>\n",
              "      <td>1.980000</td>\n",
              "      <td>117.099998</td>\n",
              "      <td>57.607655</td>\n",
              "      <td>2.040000</td>\n",
              "      <td>118.790001</td>\n",
              "      <td>58.087012</td>\n",
              "      <td>1.970000</td>\n",
              "      <td>111.699997</td>\n",
              "      <td>56.592540</td>\n",
              "      <td>2.010000</td>\n",
              "      <td>112.110001</td>\n",
              "      <td>57.828536</td>\n",
              "      <td>5825100</td>\n",
              "      <td>33016300</td>\n",
              "      <td>10581600</td>\n",
              "    </tr>\n",
              "    <tr>\n",
              "      <th>2015-11-18</th>\n",
              "      <td>2.120000</td>\n",
              "      <td>120.629997</td>\n",
              "      <td>59.111519</td>\n",
              "      <td>2.150000</td>\n",
              "      <td>121.000000</td>\n",
              "      <td>59.229009</td>\n",
              "      <td>1.980000</td>\n",
              "      <td>116.099998</td>\n",
              "      <td>57.645247</td>\n",
              "      <td>1.990000</td>\n",
              "      <td>117.940002</td>\n",
              "      <td>57.823831</td>\n",
              "      <td>9384700</td>\n",
              "      <td>23353600</td>\n",
              "      <td>10597800</td>\n",
              "    </tr>\n",
              "    <tr>\n",
              "      <th>2015-11-19</th>\n",
              "      <td>2.140000</td>\n",
              "      <td>120.220001</td>\n",
              "      <td>59.111519</td>\n",
              "      <td>2.160000</td>\n",
              "      <td>123.129997</td>\n",
              "      <td>59.680170</td>\n",
              "      <td>2.090000</td>\n",
              "      <td>119.610001</td>\n",
              "      <td>58.923534</td>\n",
              "      <td>2.100000</td>\n",
              "      <td>120.250000</td>\n",
              "      <td>59.337101</td>\n",
              "      <td>4704300</td>\n",
              "      <td>19253200</td>\n",
              "      <td>8557600</td>\n",
              "    </tr>\n",
              "    <tr>\n",
              "      <th>...</th>\n",
              "      <td>...</td>\n",
              "      <td>...</td>\n",
              "      <td>...</td>\n",
              "      <td>...</td>\n",
              "      <td>...</td>\n",
              "      <td>...</td>\n",
              "      <td>...</td>\n",
              "      <td>...</td>\n",
              "      <td>...</td>\n",
              "      <td>...</td>\n",
              "      <td>...</td>\n",
              "      <td>...</td>\n",
              "      <td>...</td>\n",
              "      <td>...</td>\n",
              "      <td>...</td>\n",
              "    </tr>\n",
              "    <tr>\n",
              "      <th>2020-11-06</th>\n",
              "      <td>85.879997</td>\n",
              "      <td>514.729980</td>\n",
              "      <td>128.899994</td>\n",
              "      <td>86.089996</td>\n",
              "      <td>515.210022</td>\n",
              "      <td>129.910004</td>\n",
              "      <td>82.669998</td>\n",
              "      <td>502.510010</td>\n",
              "      <td>128.350006</td>\n",
              "      <td>83.519997</td>\n",
              "      <td>515.000000</td>\n",
              "      <td>129.910004</td>\n",
              "      <td>53829900</td>\n",
              "      <td>4236300</td>\n",
              "      <td>2954000</td>\n",
              "    </tr>\n",
              "    <tr>\n",
              "      <th>2020-11-09</th>\n",
              "      <td>83.120003</td>\n",
              "      <td>470.500000</td>\n",
              "      <td>128.949997</td>\n",
              "      <td>87.050003</td>\n",
              "      <td>495.850006</td>\n",
              "      <td>136.350006</td>\n",
              "      <td>82.769997</td>\n",
              "      <td>467.260010</td>\n",
              "      <td>128.770004</td>\n",
              "      <td>84.239998</td>\n",
              "      <td>485.540009</td>\n",
              "      <td>135.059998</td>\n",
              "      <td>58580700</td>\n",
              "      <td>10419700</td>\n",
              "      <td>7491700</td>\n",
              "    </tr>\n",
              "    <tr>\n",
              "      <th>2020-11-10</th>\n",
              "      <td>77.989998</td>\n",
              "      <td>480.239990</td>\n",
              "      <td>127.709999</td>\n",
              "      <td>82.129997</td>\n",
              "      <td>484.600006</td>\n",
              "      <td>130.119995</td>\n",
              "      <td>77.629997</td>\n",
              "      <td>463.410004</td>\n",
              "      <td>126.250000</td>\n",
              "      <td>81.930000</td>\n",
              "      <td>470.950012</td>\n",
              "      <td>130.050003</td>\n",
              "      <td>67137200</td>\n",
              "      <td>8306100</td>\n",
              "      <td>8014700</td>\n",
              "    </tr>\n",
              "    <tr>\n",
              "      <th>2020-11-11</th>\n",
              "      <td>81.279999</td>\n",
              "      <td>490.760010</td>\n",
              "      <td>127.660004</td>\n",
              "      <td>81.470001</td>\n",
              "      <td>491.679993</td>\n",
              "      <td>129.800003</td>\n",
              "      <td>78.970001</td>\n",
              "      <td>478.260010</td>\n",
              "      <td>127.180000</td>\n",
              "      <td>79.389999</td>\n",
              "      <td>483.000000</td>\n",
              "      <td>128.690002</td>\n",
              "      <td>44611300</td>\n",
              "      <td>5460500</td>\n",
              "      <td>6058700</td>\n",
              "    </tr>\n",
              "    <tr>\n",
              "      <th>2020-11-12</th>\n",
              "      <td>81.839996</td>\n",
              "      <td>486.769989</td>\n",
              "      <td>126.639999</td>\n",
              "      <td>83.000000</td>\n",
              "      <td>496.519989</td>\n",
              "      <td>127.839996</td>\n",
              "      <td>80.300003</td>\n",
              "      <td>480.429993</td>\n",
              "      <td>125.629997</td>\n",
              "      <td>81.320000</td>\n",
              "      <td>491.000000</td>\n",
              "      <td>126.620003</td>\n",
              "      <td>37242600</td>\n",
              "      <td>5063700</td>\n",
              "      <td>4780400</td>\n",
              "    </tr>\n",
              "  </tbody>\n",
              "</table>\n",
              "<p>1259 rows × 15 columns</p>\n",
              "</div>"
            ],
            "text/plain": [
              "                Close                          ...    Volume                    \n",
              "                  AMD        NFLX         NKE  ...       AMD      NFLX       NKE\n",
              "Date                                           ...                              \n",
              "2015-11-13   1.990000  103.650002   57.269287  ...   5920200  18819400  16371000\n",
              "2015-11-16   1.990000  111.349998   58.021221  ...   4149700  19866200   9146400\n",
              "2015-11-17   1.980000  117.099998   57.607655  ...   5825100  33016300  10581600\n",
              "2015-11-18   2.120000  120.629997   59.111519  ...   9384700  23353600  10597800\n",
              "2015-11-19   2.140000  120.220001   59.111519  ...   4704300  19253200   8557600\n",
              "...               ...         ...         ...  ...       ...       ...       ...\n",
              "2020-11-06  85.879997  514.729980  128.899994  ...  53829900   4236300   2954000\n",
              "2020-11-09  83.120003  470.500000  128.949997  ...  58580700  10419700   7491700\n",
              "2020-11-10  77.989998  480.239990  127.709999  ...  67137200   8306100   8014700\n",
              "2020-11-11  81.279999  490.760010  127.660004  ...  44611300   5460500   6058700\n",
              "2020-11-12  81.839996  486.769989  126.639999  ...  37242600   5063700   4780400\n",
              "\n",
              "[1259 rows x 15 columns]"
            ]
          },
          "metadata": {
            "tags": []
          },
          "execution_count": 4
        }
      ]
    },
    {
      "cell_type": "code",
      "metadata": {
        "id": "am6XmhZbjj5B"
      },
      "source": [
        "nb_days = 1\n",
        "portfolio = pd.DataFrame()\n",
        "portfolio['Returns'] = data['Close'].pct_change(nb_days).dropna().sum(axis=1)"
      ],
      "execution_count": null,
      "outputs": []
    },
    {
      "cell_type": "code",
      "metadata": {
        "id": "uGqwVuzpkXcu",
        "outputId": "c505d7cf-14d8-4bc8-c0ef-61f34da79561",
        "colab": {
          "base_uri": "https://localhost:8080/"
        }
      },
      "source": [
        "portfolio"
      ],
      "execution_count": null,
      "outputs": [
        {
          "output_type": "execute_result",
          "data": {
            "text/html": [
              "<div>\n",
              "<style scoped>\n",
              "    .dataframe tbody tr th:only-of-type {\n",
              "        vertical-align: middle;\n",
              "    }\n",
              "\n",
              "    .dataframe tbody tr th {\n",
              "        vertical-align: top;\n",
              "    }\n",
              "\n",
              "    .dataframe thead th {\n",
              "        text-align: right;\n",
              "    }\n",
              "</style>\n",
              "<table border=\"1\" class=\"dataframe\">\n",
              "  <thead>\n",
              "    <tr style=\"text-align: right;\">\n",
              "      <th></th>\n",
              "      <th>Returns</th>\n",
              "    </tr>\n",
              "    <tr>\n",
              "      <th>Date</th>\n",
              "      <th></th>\n",
              "    </tr>\n",
              "  </thead>\n",
              "  <tbody>\n",
              "    <tr>\n",
              "      <th>2015-11-16</th>\n",
              "      <td>0.087418</td>\n",
              "    </tr>\n",
              "    <tr>\n",
              "      <th>2015-11-17</th>\n",
              "      <td>0.039486</td>\n",
              "    </tr>\n",
              "    <tr>\n",
              "      <th>2015-11-18</th>\n",
              "      <td>0.126957</td>\n",
              "    </tr>\n",
              "    <tr>\n",
              "      <th>2015-11-19</th>\n",
              "      <td>0.006035</td>\n",
              "    </tr>\n",
              "    <tr>\n",
              "      <th>2015-11-20</th>\n",
              "      <td>0.122114</td>\n",
              "    </tr>\n",
              "    <tr>\n",
              "      <th>...</th>\n",
              "      <td>...</td>\n",
              "    </tr>\n",
              "    <tr>\n",
              "      <th>2020-11-06</th>\n",
              "      <td>0.030419</td>\n",
              "    </tr>\n",
              "    <tr>\n",
              "      <th>2020-11-09</th>\n",
              "      <td>-0.117678</td>\n",
              "    </tr>\n",
              "    <tr>\n",
              "      <th>2020-11-10</th>\n",
              "      <td>-0.050633</td>\n",
              "    </tr>\n",
              "    <tr>\n",
              "      <th>2020-11-11</th>\n",
              "      <td>0.063699</td>\n",
              "    </tr>\n",
              "    <tr>\n",
              "      <th>2020-11-12</th>\n",
              "      <td>-0.009231</td>\n",
              "    </tr>\n",
              "  </tbody>\n",
              "</table>\n",
              "<p>1258 rows × 1 columns</p>\n",
              "</div>"
            ],
            "text/plain": [
              "             Returns\n",
              "Date                \n",
              "2015-11-16  0.087418\n",
              "2015-11-17  0.039486\n",
              "2015-11-18  0.126957\n",
              "2015-11-19  0.006035\n",
              "2015-11-20  0.122114\n",
              "...              ...\n",
              "2020-11-06  0.030419\n",
              "2020-11-09 -0.117678\n",
              "2020-11-10 -0.050633\n",
              "2020-11-11  0.063699\n",
              "2020-11-12 -0.009231\n",
              "\n",
              "[1258 rows x 1 columns]"
            ]
          },
          "metadata": {
            "tags": []
          },
          "execution_count": 6
        }
      ]
    },
    {
      "cell_type": "code",
      "metadata": {
        "id": "4AHy7nmyivpO"
      },
      "source": [
        "portfolio_value = 1e6"
      ],
      "execution_count": null,
      "outputs": []
    },
    {
      "cell_type": "markdown",
      "metadata": {
        "id": "8iG6dBEAb2gp"
      },
      "source": [
        "## **Traditional methods to estimate risk:**"
      ]
    },
    {
      "cell_type": "markdown",
      "metadata": {
        "id": "mgEuC8mdK7tm"
      },
      "source": [
        "### **Variance-covariance Method:**\n"
      ]
    },
    {
      "cell_type": "markdown",
      "metadata": {
        "id": "wYho6fQDAe2x"
      },
      "source": [
        "\n",
        "Since VAR measures the probability that the value will drop below a specific value over a period of time, it makes sense to derive this probability from the probability distribution of potential values.\n",
        "When working with portfolios of assets, the same idea will apply but the process of estimating parameters is complicated because of the assets movement within the porfolio.\n",
        "\n",
        "This method consist in a 2 steps process:\n",
        "\n",
        "\n",
        "1.   Estimate variances and covariances of each of these instruments. In other words getting the correlation matrix of the portfolio of assets.\n",
        "2.   Compute the value-at-risk using the weights on the standardized instruents of the portfolio as well as the correlation matrix.\n",
        "\n",
        "\n",
        "This method is making an asumption about how returns are distributed. Each market risk factor has normally distributed retruns as well as the returns of any portfolios.\n",
        "  \n",
        "####**Note:** \n",
        "Returns on individual risk factors are assumed to follow conditional normal distribution. While returns may not themselves be normally distributed and large outliers are very common (fat tails in the distribution), the assumption is that the standardized return (computed as the return divided by the forecasted standard deviation) is normally distributed.Hence, a large return (positive or negative) in a period of high volatility may result in a low standardized return, whereas the same return following a period of low volatility will yield an abnormally high standardized return.\n",
        "\n",
        "#### **PROS:**\n",
        "\n",
        "\n",
        "*   Simple to compute\n",
        "\n",
        "#### **CONS:**\n",
        "\n",
        "\n",
        "*   Wrong distributional assumption\n",
        "*   Input error directly from the correlation matrix (id, variances & covariances).\n",
        "*   Non-Stationary variables: correlation between will most like ly change over time.\n",
        "\n",
        "The two last issue are the main ones.we get much better estimates by using models that explicitly allow the standard deviation to change of time (heteroskedasticity).6 In fact, he suggests two variants – Autoregressive Conditional Heteroskedasticity (ARCH) and Generalized Autoregressive Conditional Heteroskedasticity (GARCH) – that provide better forecasts of variance and, by extension, better measures of Value at Risk. \n",
        "The first issue can be dealt with by giving the choice of the distribution to the user or assume that it falls a multivariate normal distribution.\n"
      ]
    },
    {
      "cell_type": "code",
      "metadata": {
        "id": "NGYN-ml9SIUX"
      },
      "source": [
        "returns = data['Close'].pct_change(1).dropna()\n",
        "cov = returns.cov()"
      ],
      "execution_count": null,
      "outputs": []
    },
    {
      "cell_type": "code",
      "metadata": {
        "id": "l9YbJFezZ1-c"
      },
      "source": [
        "portfolio_value = 1e6\n",
        "weights = np.ones(len(cov))/len(cov) # equally weighted portfolio\n",
        "portfolio_mean = (1+portfolio['Returns'].mean())*portfolio_value\n",
        "portfolio_std = np.sqrt(weights.T.dot(cov).dot(weights))*portfolio_value\n"
      ],
      "execution_count": null,
      "outputs": []
    },
    {
      "cell_type": "code",
      "metadata": {
        "id": "9NlT29LSZIIO",
        "outputId": "c6e4c039-207b-4d80-dd5d-c6fca9a72e9a",
        "colab": {
          "base_uri": "https://localhost:8080/"
        }
      },
      "source": [
        "from scipy.stats import norm\n",
        "CV_VaR = portfolio_value - norm.ppf(0.95, portfolio_mean, portfolio_std)\n",
        "print(f'The Covariance-Variance VaR is {CV_VaR}')"
      ],
      "execution_count": null,
      "outputs": [
        {
          "output_type": "stream",
          "text": [
            "The Covariance-Variance VaR is -50842.95174418646\n"
          ],
          "name": "stdout"
        }
      ]
    },
    {
      "cell_type": "markdown",
      "metadata": {
        "id": "yPnqjqvOJDGS"
      },
      "source": [
        "### **Historical Simulation Method:**"
      ]
    },
    {
      "cell_type": "markdown",
      "metadata": {
        "id": "WhlhfLK6MT2C"
      },
      "source": [
        "This is the easiest wayof estimating value-at-risk for many portfolios. Here, the method consists in estimating the VAR by creating hypotheticaltime series of returns on that portfolio. \n",
        "\n",
        "To perform historical simulation, we start with time series data on each market risk factor.The historical changes yield for all the information needed to compute the VaR.\n",
        "\n",
        "#### **Idea:**\n",
        "organized daily price changes into positive and negative numbers and analyzed each group.\n",
        "With a 99% confidence interval, the positive VaR is defined as the price change in the 99th percentile of the positive price changes and the negative VaR as the price change at the 99th percentile of the negative price changes.\n",
        "\n",
        "#### **Assumption:**\n",
        "\n",
        "*   The approach is agnostic when it comes to distributional assumptions, and the VaR is determined by the actual price movements.\n",
        "*   Each day in the time series carries an equal weight when it comes to measuring the VaR, a potential problem if there is a trend in the variability.\n",
        "*   The approach is based on the assumption of history repeating itself. In other words, it is period dependant. For instance,a peak volatility (black swan event) may skew the end results of the VaR.\n",
        "\n",
        "#### **Pros:**\n",
        "\n",
        "* Very simple.\n",
        "* Independent of the distribution.\n",
        "\n",
        "#### **Cons:**\n",
        "\n",
        "* The historical simulation approach has the most difficulty dealing with new risks and assets for an obvious reason: there is no historic data available to compute the Value at Risk.\n",
        "* To the extent that there is a trend of increasing volatility even within the historical time period, we will understate the Value at Risk as all data points are weighted equally.\n",
        "\n",
        "#### **Possible modification:**(already proposed)\n",
        "\n",
        "* Each return, rather than being weighted\n",
        "equally, is assigned a probability weight based on its recency. \n",
        "* We could fit the historical data to a forcasting model (ARMA etc ...) and use the model parameter to compute the VaR.\n"
      ]
    },
    {
      "cell_type": "markdown",
      "metadata": {
        "id": "4kH8cmaR_5kA"
      },
      "source": [
        "##### **Historical VaR python code:** *italicized text*"
      ]
    },
    {
      "cell_type": "code",
      "metadata": {
        "id": "Yf0XT7TAwAkH"
      },
      "source": [
        "import scipy.stats as stats"
      ],
      "execution_count": null,
      "outputs": []
    },
    {
      "cell_type": "code",
      "metadata": {
        "id": "G1F_TSKVrh9o",
        "outputId": "6ebba412-7eff-443a-f1e9-6171bf2cb516",
        "colab": {
          "base_uri": "https://localhost:8080/"
        }
      },
      "source": [
        "portfolio['Returns'].hist(bins=40, histtype='stepfilled', alpha=0.5 )\n",
        "\n",
        "mu = np.mean(portfolio['Returns'])\n",
        "sigma = np.std(portfolio['Returns'])\n",
        "print(f\"Annual Mean of Returns: {mu:0.3f}%\")\n",
        "print(f\"Annual Variance of Returns: {sigma:0.3f}%\")\n",
        "\n",
        "VaR = np.percentile(portfolio['Returns'], 5, interpolation=\"lower\")*portfolio_value\n",
        "print(f'The simple historical VaR is {VaR}')\n",
        "\n",
        "\n"
      ],
      "execution_count": null,
      "outputs": [
        {
          "output_type": "stream",
          "text": [
            "Annual Mean of Returns: 0.014%\n",
            "Annual Variance of Returns: 0.134%\n",
            "The simple historical VaR is -225063.20403753256\n"
          ],
          "name": "stdout"
        },
        {
          "output_type": "display_data",
          "data": {
            "image/png": "[encoded data removed]",
            "text/plain": [
              "<Figure size 432x288 with 1 Axes>"
            ]
          },
          "metadata": {
            "tags": [],
            "needs_background": "light"
          }
        }
      ]
    },
    {
      "cell_type": "markdown",
      "metadata": {
        "id": "4iYDX6evAXqH"
      },
      "source": [
        "##### **Conditional VaR python code:**"
      ]
    },
    {
      "cell_type": "code",
      "metadata": {
        "id": "1Fom4VEzAgks",
        "outputId": "8d540619-fac9-4d78-b0cd-454a87a60204",
        "colab": {
          "base_uri": "https://localhost:8080/"
        }
      },
      "source": [
        "CVaR = portfolio['Returns'][ portfolio['Returns'] <= np.percentile(portfolio['Returns'], 5, interpolation=\"lower\")].mean()*portfolio_value\n",
        "print(f'The conditional historical VaR is {CVaR}')"
      ],
      "execution_count": null,
      "outputs": [
        {
          "output_type": "stream",
          "text": [
            "The conditional historical VaR is -317971.96570964414\n"
          ],
          "name": "stdout"
        }
      ]
    },
    {
      "cell_type": "markdown",
      "metadata": {
        "id": "epE1KSMIZT1G"
      },
      "source": [
        "If you consider implementing the impovement using the arima model, it is very to work on finding the right order (p,d,q) before hand. Otherwise the fiting on the model will be completely wrong."
      ]
    },
    {
      "cell_type": "markdown",
      "metadata": {
        "id": "RO7dMoP0f_Fb"
      },
      "source": [
        "### **Monte-Carlo simulation method:**"
      ]
    },
    {
      "cell_type": "markdown",
      "metadata": {
        "id": "GMBF4QTFgOgx"
      },
      "source": [
        "In this method, we specify probability distributions for each of the market risk factors and specify how these market risk factors move together. While the estimation of parameters is easier if you assume normal distributions for all variables, the power of Monte Carlo simulations comes from the freedom you have to pick alternate distributions for the variables. In addition, you can bring in subjective judgments to modify these distributions.\n",
        "\n",
        "Once the distributions are specified, the simulation process starts. In each run, the\n",
        "market risk variables take on different outcomes and the value of the portfolio reflects the outcomes. After a repeated series of runs, numbering usually in the thousands, you will have a distribution of portfolio values that can be used to assess Value at Risk. For instance, assume that you run a series of 10,000 simulations and derive corresponding values for the portfolio. These values can be ranked from highest to lowest, and the 95% percentile Value at Risk will correspond to the 500th lowest value and the 99th percentile to the 100th lowest value.\n",
        "\n",
        "#### **Pros:**\n",
        "\n",
        "The strengths of Monte Carlo simulations can be seen when compared to the other two approaches for computing Value at Risk. Unlike the variance-covariance approach, we do not have to make unrealistic assumptions about normality in returns. In contrast to the historical simulation approach, we begin with historical data but are free to bring in both subjective judgments and other information to improve forecasted probability distributions. Finally, Monte Carlo simulations can be used to assess the Value at Risk for any type of portfolio and are flexible enough to cover options and option-like securities.\n",
        "\n",
        "#### **Cons:**\n",
        "\n",
        "First, you now have to estimate the probability distributions for hundreds of market risk variables rather than just the handful that we talked about in the context of analyzing a single project or asset. Second, the number of simulations that you need to run to obtain reasonable estimate of Value at Risk will have to increase substantially (to the tens of thousands from the thousands).\n",
        "\n",
        "#### **Possible modification:**(already proposed)\n",
        "\n",
        "Use the variance-covariance method with the monte-carlo simulation.\n"
      ]
    },
    {
      "cell_type": "code",
      "metadata": {
        "id": "S2BdFTwvbdTt",
        "outputId": "164a4d0f-d906-4e87-a7a0-87bf59c32a61",
        "colab": {
          "base_uri": "https://localhost:8080/"
        }
      },
      "source": [
        "mu_portfolio = np.mean(portfolio['Returns'])\n",
        "sigma_portfolio = np.std(portfolio['Returns'])\n",
        "T = 252\n",
        "sim_returns = []\n",
        "for i in range(1000):\n",
        "  rand_rets = np.random.normal(mu_portfolio, sigma_portfolio, T)\n",
        "  sim_returns.append(rand_rets)\n",
        "  \n",
        "var_MC = np.percentile(sim_returns, 5)*portfolio_value\n",
        "print(f'The Monte-Carlo VaR is {var_MC}')"
      ],
      "execution_count": null,
      "outputs": [
        {
          "output_type": "stream",
          "text": [
            "The Monte-Carlo VaR is -204901.56888654802\n"
          ],
          "name": "stdout"
        }
      ]
    },
    {
      "cell_type": "markdown",
      "metadata": {
        "id": "dwi0fwVCRoQP"
      },
      "source": [
        "### **Conclusion:**\n",
        "\n",
        "Monte-Carlo and historical VaR have approximatively are rather close compare to covariance-variance VaR. i believe this due to strong assumption about the normal distribution of the portfolio returns.\n"
      ]
    },
    {
      "cell_type": "code",
      "metadata": {
        "id": "UgnXtP-2Sepb",
        "outputId": "0c3b4024-754d-4277-ec96-6608bd30e58d",
        "colab": {
          "base_uri": "https://localhost:8080/",
          "height": 297
        }
      },
      "source": [
        "from scipy.stats import kurtosis, skew\n",
        "print(f\"Skew is {skew(portfolio['Returns'])}\")\n",
        "print(f\"Kurtosis is {kurtosis(portfolio['Returns'])}\")\n",
        "plt.hist(portfolio['Returns'], bins=40, density=None)\n",
        "plt.show()"
      ],
      "execution_count": null,
      "outputs": [
        {
          "output_type": "stream",
          "text": [
            "Skew is -0.5449376030929813\n",
            "Kurtosis is 3.900695917466848\n"
          ],
          "name": "stdout"
        },
        {
          "output_type": "display_data",
          "data": {
            "image/png": "[encoded data removed]",
            "text/plain": [
              "<Figure size 432x288 with 1 Axes>"
            ]
          },
          "metadata": {
            "tags": [],
            "needs_background": "light"
          }
        }
      ]
    },
    {
      "cell_type": "markdown",
      "metadata": {
        "id": "ukR2Hyy6S7gP"
      },
      "source": [
        "As we can see the kurtosis is high which yields against the hypotesis of normal distribution. I believe It is the monte-carlo method is less impacted thanks to the large number of scenario used."
      ]
    },
    {
      "cell_type": "markdown",
      "metadata": {
        "id": "k7Oli7qxbyb_"
      },
      "source": [
        ""
      ]
    },
    {
      "cell_type": "markdown",
      "metadata": {
        "id": "YeRYjIyHcBAJ"
      },
      "source": [
        ""
      ]
    },
    {
      "cell_type": "markdown",
      "metadata": {
        "id": "vhnFUpfgcGGO"
      },
      "source": [
        "## **Estimating level of risk using GMM:**"
      ]
    },
    {
      "cell_type": "markdown",
      "metadata": {
        "id": "Z0CwngwObQve"
      },
      "source": [
        "As we'seen traditional methods have many issues : \n",
        "* time varying mean\n",
        "* time varying volatility\n",
        "\n",
        "Let's investigate."
      ]
    },
    {
      "cell_type": "markdown",
      "metadata": {
        "id": "70qHxby8flZN"
      },
      "source": [
        "#### **GMM:**\n",
        "\n",
        "First of all, GMM gives a local solution (for the parameters $\\mu$ and $\\Sigma$) thanks to the EM algorithm emebeded in the clustering process of GMM.Thus, the best way to use GMM is to aply it by period (window of the time series).\n",
        "\n",
        "Here are some benefits of using GMM:\n",
        "* corrupted data don't change much the final result\n",
        "* Missing data are not a problem either\n",
        "\n",
        "\n",
        "I am not going to tackles the GMM algortihm and neither the expectation-maximisation on which it relies.\n",
        "\n",
        "\n",
        "We will assume an equally weighted portfolio for the time being.\n"
      ]
    },
    {
      "cell_type": "code",
      "metadata": {
        "id": "dWEKPUQ1blvV"
      },
      "source": [
        "from sklearn.mixture import GaussianMixture\n",
        "from sklearn.model_selection import TimeSeriesSplit\n",
        "from IPython.display import display\n"
      ],
      "execution_count": null,
      "outputs": []
    },
    {
      "cell_type": "code",
      "metadata": {
        "id": "5rEQ4ZjcYnAi"
      },
      "source": [
        "# Creat the the Gaussian mixture model object\n",
        "# n_components = number of risk level we would like \n",
        "# max_iter = the number of iteration done by the EM algorithm\n",
        "# n_init = number of initialization to do before taking the best one for the EM algorithm\n",
        "def perform_gmm(n_components, max_iteration=200, n_init=150, random_state = 10):\n",
        "  args = dict(random_state = random_state,\n",
        "              n_components = n_components,\n",
        "              max_iter = max_iter,\n",
        "              n_init = n_init )\n",
        "  gmm = GaussianMixture(**args)\n"
      ],
      "execution_count": null,
      "outputs": []
    },
    {
      "cell_type": "markdown",
      "metadata": {
        "id": "rn3hw2K72N-u"
      },
      "source": [
        "##### **Portfolio Returns:**(construction and analysis)"
      ]
    },
    {
      "cell_type": "code",
      "metadata": {
        "id": "nOIBvmU-cQVx"
      },
      "source": [
        "def compute_daily_change(df):\n",
        "  port_returns = pd.DataFrame()\n",
        "  # Compute time series of daily returns for each stock of the portfolio and for the whole portfolio\n",
        "  port_returns = df['Close'].pct_change(1).dropna()\n",
        "  port_returns['Portfolio Returns'] = data['Close'].pct_change(1).dropna().sum(axis=1)\n",
        "\n",
        "  return port_returns\n",
        "  "
      ],
      "execution_count": null,
      "outputs": []
    },
    {
      "cell_type": "code",
      "metadata": {
        "id": "qtXeG39luL5G",
        "outputId": "7d3f453a-1bba-4e49-b867-13813742c8b1",
        "colab": {
          "base_uri": "https://localhost:8080/"
        }
      },
      "source": [
        "port_change = compute_daily_change(data)\n",
        "port_change"
      ],
      "execution_count": null,
      "outputs": [
        {
          "output_type": "execute_result",
          "data": {
            "text/html": [
              "<div>\n",
              "<style scoped>\n",
              "    .dataframe tbody tr th:only-of-type {\n",
              "        vertical-align: middle;\n",
              "    }\n",
              "\n",
              "    .dataframe tbody tr th {\n",
              "        vertical-align: top;\n",
              "    }\n",
              "\n",
              "    .dataframe thead th {\n",
              "        text-align: right;\n",
              "    }\n",
              "</style>\n",
              "<table border=\"1\" class=\"dataframe\">\n",
              "  <thead>\n",
              "    <tr style=\"text-align: right;\">\n",
              "      <th></th>\n",
              "      <th>AMD</th>\n",
              "      <th>NFLX</th>\n",
              "      <th>NKE</th>\n",
              "      <th>Portfolio Returns</th>\n",
              "    </tr>\n",
              "    <tr>\n",
              "      <th>Date</th>\n",
              "      <th></th>\n",
              "      <th></th>\n",
              "      <th></th>\n",
              "      <th></th>\n",
              "    </tr>\n",
              "  </thead>\n",
              "  <tbody>\n",
              "    <tr>\n",
              "      <th>2015-11-16</th>\n",
              "      <td>0.000000</td>\n",
              "      <td>0.074288</td>\n",
              "      <td>0.013130</td>\n",
              "      <td>0.087418</td>\n",
              "    </tr>\n",
              "    <tr>\n",
              "      <th>2015-11-17</th>\n",
              "      <td>-0.005025</td>\n",
              "      <td>0.051639</td>\n",
              "      <td>-0.007128</td>\n",
              "      <td>0.039486</td>\n",
              "    </tr>\n",
              "    <tr>\n",
              "      <th>2015-11-18</th>\n",
              "      <td>0.070707</td>\n",
              "      <td>0.030145</td>\n",
              "      <td>0.026105</td>\n",
              "      <td>0.126957</td>\n",
              "    </tr>\n",
              "    <tr>\n",
              "      <th>2015-11-19</th>\n",
              "      <td>0.009434</td>\n",
              "      <td>-0.003399</td>\n",
              "      <td>0.000000</td>\n",
              "      <td>0.006035</td>\n",
              "    </tr>\n",
              "    <tr>\n",
              "      <th>2015-11-20</th>\n",
              "      <td>0.037383</td>\n",
              "      <td>0.030111</td>\n",
              "      <td>0.054619</td>\n",
              "      <td>0.122114</td>\n",
              "    </tr>\n",
              "    <tr>\n",
              "      <th>...</th>\n",
              "      <td>...</td>\n",
              "      <td>...</td>\n",
              "      <td>...</td>\n",
              "      <td>...</td>\n",
              "    </tr>\n",
              "    <tr>\n",
              "      <th>2020-11-06</th>\n",
              "      <td>0.034699</td>\n",
              "      <td>0.001888</td>\n",
              "      <td>-0.006168</td>\n",
              "      <td>0.030419</td>\n",
              "    </tr>\n",
              "    <tr>\n",
              "      <th>2020-11-09</th>\n",
              "      <td>-0.032138</td>\n",
              "      <td>-0.085929</td>\n",
              "      <td>0.000388</td>\n",
              "      <td>-0.117678</td>\n",
              "    </tr>\n",
              "    <tr>\n",
              "      <th>2020-11-10</th>\n",
              "      <td>-0.061718</td>\n",
              "      <td>0.020701</td>\n",
              "      <td>-0.009616</td>\n",
              "      <td>-0.050633</td>\n",
              "    </tr>\n",
              "    <tr>\n",
              "      <th>2020-11-11</th>\n",
              "      <td>0.042185</td>\n",
              "      <td>0.021906</td>\n",
              "      <td>-0.000391</td>\n",
              "      <td>0.063699</td>\n",
              "    </tr>\n",
              "    <tr>\n",
              "      <th>2020-11-12</th>\n",
              "      <td>0.006890</td>\n",
              "      <td>-0.008130</td>\n",
              "      <td>-0.007990</td>\n",
              "      <td>-0.009231</td>\n",
              "    </tr>\n",
              "  </tbody>\n",
              "</table>\n",
              "<p>1258 rows × 4 columns</p>\n",
              "</div>"
            ],
            "text/plain": [
              "                 AMD      NFLX       NKE  Portfolio Returns\n",
              "Date                                                       \n",
              "2015-11-16  0.000000  0.074288  0.013130           0.087418\n",
              "2015-11-17 -0.005025  0.051639 -0.007128           0.039486\n",
              "2015-11-18  0.070707  0.030145  0.026105           0.126957\n",
              "2015-11-19  0.009434 -0.003399  0.000000           0.006035\n",
              "2015-11-20  0.037383  0.030111  0.054619           0.122114\n",
              "...              ...       ...       ...                ...\n",
              "2020-11-06  0.034699  0.001888 -0.006168           0.030419\n",
              "2020-11-09 -0.032138 -0.085929  0.000388          -0.117678\n",
              "2020-11-10 -0.061718  0.020701 -0.009616          -0.050633\n",
              "2020-11-11  0.042185  0.021906 -0.000391           0.063699\n",
              "2020-11-12  0.006890 -0.008130 -0.007990          -0.009231\n",
              "\n",
              "[1258 rows x 4 columns]"
            ]
          },
          "metadata": {
            "tags": []
          },
          "execution_count": 11
        }
      ]
    },
    {
      "cell_type": "markdown",
      "metadata": {
        "id": "iVOcrs0jRJFh"
      },
      "source": [
        "I believe 5 years of data is enough for the algorithm to work well.\n",
        "\n",
        "Before anything let's look at the returns distribution for each stocks as well as for the portfolio."
      ]
    },
    {
      "cell_type": "code",
      "metadata": {
        "id": "20cf2bykTIqo"
      },
      "source": [
        "import plotnine as pn"
      ],
      "execution_count": null,
      "outputs": []
    },
    {
      "cell_type": "code",
      "metadata": {
        "id": "5v036_9mRDaW"
      },
      "source": [
        "def plot_distributions(df):\n",
        "  p = (pn.ggplot(pd.melt(df), pn.aes(x='value', color='variable'))\n",
        "     +pn.geom_density(pn.aes(fill='variable'), alpha=0.5))\n",
        "  p.draw();"
      ],
      "execution_count": null,
      "outputs": []
    },
    {
      "cell_type": "code",
      "metadata": {
        "id": "IPSPWvhjVwed",
        "outputId": "ffa27c90-b6ff-406b-e9f6-46eb0f0cd573",
        "colab": {
          "base_uri": "https://localhost:8080/"
        }
      },
      "source": [
        "plot_distributions(port_change)"
      ],
      "execution_count": null,
      "outputs": [
        {
          "output_type": "stream",
          "text": [
            "/usr/local/lib/python3.6/dist-packages/plotnine/utils.py:1246: FutureWarning: is_categorical is deprecated and will be removed in a future version.  Use is_categorical_dtype instead\n",
            "  if pdtypes.is_categorical(arr):\n"
          ],
          "name": "stderr"
        },
        {
          "output_type": "display_data",
          "data": {
            "image/png": "[encoded data removed]",
            "text/plain": [
              "<Figure size 640x480 with 1 Axes>"
            ]
          },
          "metadata": {
            "tags": []
          }
        }
      ]
    },
    {
      "cell_type": "markdown",
      "metadata": {
        "id": "ul97POPXYXhc"
      },
      "source": [
        "We can clearly see the fat tails of the portfolio returns distribution."
      ]
    },
    {
      "cell_type": "markdown",
      "metadata": {
        "id": "17iB8Vo61kG2"
      },
      "source": [
        "##### **Risk level clustering of the portfolio return:**(2 levels)"
      ]
    },
    {
      "cell_type": "code",
      "metadata": {
        "id": "aR_IlkEHprIb"
      },
      "source": [
        "def display_level(df, means, covariances):\n",
        "    \n",
        "    #Display parameters\n",
        "    fig = plt.figure(figsize=(12,7))\n",
        "\n",
        "    std_0 = np.std(df_states.loc[df_states['State']==0, 'Portfolio Returns'])\n",
        "    std_1 = np.std(df_states.loc[df_states['State']==1, 'Portfolio Returns'])\n",
        "\n",
        "\n",
        "\n",
        "    for i, (mean, covar) in enumerate(zip(means, covariances)):\n",
        "        \n",
        "        # select date and data to display for each state of the iteration\n",
        "        x = df.loc[df['State']==i, 'Date']\n",
        "        y = df.loc[df['State']==i, 'Portfolio Returns']\n",
        "\n",
        "        # tackle color & state issue\n",
        "        if std_0 < std_1 and i==0:\n",
        "          color = 'green'\n",
        "          label = 'level 0'\n",
        "        elif std_0 < std_1 and i == 1:\n",
        "          color = 'red'\n",
        "          label = 'level 1'\n",
        "        elif std_0 > std_1 and i==0:\n",
        "          color = 'red'\n",
        "          label = 'level 1'\n",
        "        elif std_0 > std_1 and i == 1:\n",
        "          color = 'green'\n",
        "          label = 'level 0' \n",
        "\n",
        "        \n",
        "        # Scater plot the poiint corresponding to the current sate of the iteration\n",
        "        plt.scatter(x, y, 30, color=color, edgecolors='k', linewidths=0.5,label=label)\n",
        "        plt.xlim(df['Date'].min(), df['Date'].max())\n",
        "        plt.axhline(y=0, color='black', linestyle=':')\n",
        "        plt.legend()\n",
        "\n",
        "        # Title display\n",
        "        min_idx_str = df['Date'].min().strftime('%Y/%m/%d')\n",
        "        max_idx_str = df['Date'].max().strftime('%Y/%m/%d')\n",
        "        title_text = f\"Period ${min_idx_str}$ through ${max_idx_str}$\"\n",
        "        plt.title(title_text, fontsize=17, fontweight='medium')\n",
        "\n",
        "    plt.show()"
      ],
      "execution_count": null,
      "outputs": []
    },
    {
      "cell_type": "code",
      "metadata": {
        "id": "hyxDeagLfsLW",
        "outputId": "2ad880b2-b315-4216-88bc-31315e10d70d",
        "colab": {
          "base_uri": "https://localhost:8080/",
          "height": 1000
        }
      },
      "source": [
        "# initialize lists of information\n",
        "pred_levels = []\n",
        "pred_covariances = []\n",
        "pred_means = []\n",
        "\n",
        "# initialize parameters \n",
        "n_components = 2 \n",
        "n_split = 4 # default value \n",
        "lookback = 252 # 1 trading year => display by year (to be reduce to 21 if you want by month)\n",
        "\n",
        "tscv = TimeSeriesSplit(n_splits=n_split, max_train_size=lookback)\n",
        "gmm = GaussianMixture(n_components) \n",
        "\n",
        "for i, (train, test) in enumerate(tscv.split(port_returns['Portfolio Returns'])): \n",
        "    \n",
        "    # Using the indexes returned to split the data into chunk\n",
        "    tmp_train_set = port_returns['Portfolio Returns'].iloc[train] \n",
        "    tmp_test_set = port_returns['Portfolio Returns'].iloc[test] \n",
        "    X_train = tmp_train_set.values.reshape(-1,1) # format needed for gmm (sklearn function)\n",
        "    X_test = tmp_test_set.values.reshape(-1,1)\n",
        "\n",
        "    # Fit the GMM model for the dataset which expresses the dataset as a mixture of 2 Gaussian Distribution\n",
        "    # covariance type is 'full' by defult, so, each component has its own general covariance matrix\n",
        "    \n",
        "    gmm.fit(X_train) \n",
        "    \n",
        "    # predict hidden states\n",
        "    states_proba= gmm.predict_proba(X_test)\n",
        "    states = gmm.predict(X_test)\n",
        "\n",
        "    # Update lists\n",
        "    pred_levels.append(states)\n",
        "    pred_means.append(gmm.means_)\n",
        "    pred_covariances.append(gmm.covariances_) \n",
        "\n",
        "    # create dataframe states' info\n",
        "    df_states = tmp_test_set.to_frame().assign(State = pd.Categorical(states)).reset_index()\n",
        "    \n",
        "    # display\n",
        "    display_level(df_states, gmm.means_, gmm.covariances_)  \n",
        "    display(df_states.groupby('State').describe().T)\n",
        "\n",
        " \n",
        "\n"
      ],
      "execution_count": null,
      "outputs": [
        {
          "output_type": "display_data",
          "data": {
            "image/png": "[encoded data removed]",
            "text/plain": [
              "<Figure size 864x504 with 1 Axes>"
            ]
          },
          "metadata": {
            "tags": [],
            "needs_background": "light"
          }
        },
        {
          "output_type": "display_data",
          "data": {
            "text/html": [
              "<div>\n",
              "<style scoped>\n",
              "    .dataframe tbody tr th:only-of-type {\n",
              "        vertical-align: middle;\n",
              "    }\n",
              "\n",
              "    .dataframe tbody tr th {\n",
              "        vertical-align: top;\n",
              "    }\n",
              "\n",
              "    .dataframe thead th {\n",
              "        text-align: right;\n",
              "    }\n",
              "</style>\n",
              "<table border=\"1\" class=\"dataframe\">\n",
              "  <thead>\n",
              "    <tr style=\"text-align: right;\">\n",
              "      <th></th>\n",
              "      <th>State</th>\n",
              "      <th>0</th>\n",
              "      <th>1</th>\n",
              "    </tr>\n",
              "  </thead>\n",
              "  <tbody>\n",
              "    <tr>\n",
              "      <th rowspan=\"8\" valign=\"top\">Portfolio Returns</th>\n",
              "      <th>count</th>\n",
              "      <td>234.000000</td>\n",
              "      <td>17.000000</td>\n",
              "    </tr>\n",
              "    <tr>\n",
              "      <th>mean</th>\n",
              "      <td>0.006499</td>\n",
              "      <td>-0.006765</td>\n",
              "    </tr>\n",
              "    <tr>\n",
              "      <th>std</th>\n",
              "      <td>0.035751</td>\n",
              "      <td>0.133371</td>\n",
              "    </tr>\n",
              "    <tr>\n",
              "      <th>min</th>\n",
              "      <td>-0.084416</td>\n",
              "      <td>-0.233755</td>\n",
              "    </tr>\n",
              "    <tr>\n",
              "      <th>25%</th>\n",
              "      <td>-0.014791</td>\n",
              "      <td>-0.099039</td>\n",
              "    </tr>\n",
              "    <tr>\n",
              "      <th>50%</th>\n",
              "      <td>0.004056</td>\n",
              "      <td>-0.090498</td>\n",
              "    </tr>\n",
              "    <tr>\n",
              "      <th>75%</th>\n",
              "      <td>0.029756</td>\n",
              "      <td>0.119566</td>\n",
              "    </tr>\n",
              "    <tr>\n",
              "      <th>max</th>\n",
              "      <td>0.094239</td>\n",
              "      <td>0.165736</td>\n",
              "    </tr>\n",
              "  </tbody>\n",
              "</table>\n",
              "</div>"
            ],
            "text/plain": [
              "State                             0          1\n",
              "Portfolio Returns count  234.000000  17.000000\n",
              "                  mean     0.006499  -0.006765\n",
              "                  std      0.035751   0.133371\n",
              "                  min     -0.084416  -0.233755\n",
              "                  25%     -0.014791  -0.099039\n",
              "                  50%      0.004056  -0.090498\n",
              "                  75%      0.029756   0.119566\n",
              "                  max      0.094239   0.165736"
            ]
          },
          "metadata": {
            "tags": []
          }
        },
        {
          "output_type": "display_data",
          "data": {
            "image/png": "[encoded data removed]",
            "text/plain": [
              "<Figure size 864x504 with 1 Axes>"
            ]
          },
          "metadata": {
            "tags": [],
            "needs_background": "light"
          }
        },
        {
          "output_type": "display_data",
          "data": {
            "text/html": [
              "<div>\n",
              "<style scoped>\n",
              "    .dataframe tbody tr th:only-of-type {\n",
              "        vertical-align: middle;\n",
              "    }\n",
              "\n",
              "    .dataframe tbody tr th {\n",
              "        vertical-align: top;\n",
              "    }\n",
              "\n",
              "    .dataframe thead th {\n",
              "        text-align: right;\n",
              "    }\n",
              "</style>\n",
              "<table border=\"1\" class=\"dataframe\">\n",
              "  <thead>\n",
              "    <tr style=\"text-align: right;\">\n",
              "      <th></th>\n",
              "      <th>State</th>\n",
              "      <th>0</th>\n",
              "      <th>1</th>\n",
              "    </tr>\n",
              "  </thead>\n",
              "  <tbody>\n",
              "    <tr>\n",
              "      <th rowspan=\"8\" valign=\"top\">Portfolio Returns</th>\n",
              "      <th>count</th>\n",
              "      <td>122.000000</td>\n",
              "      <td>129.000000</td>\n",
              "    </tr>\n",
              "    <tr>\n",
              "      <th>mean</th>\n",
              "      <td>0.007424</td>\n",
              "      <td>0.005006</td>\n",
              "    </tr>\n",
              "    <tr>\n",
              "      <th>std</th>\n",
              "      <td>0.085995</td>\n",
              "      <td>0.019745</td>\n",
              "    </tr>\n",
              "    <tr>\n",
              "      <th>min</th>\n",
              "      <td>-0.234207</td>\n",
              "      <td>-0.030293</td>\n",
              "    </tr>\n",
              "    <tr>\n",
              "      <th>25%</th>\n",
              "      <td>-0.057324</td>\n",
              "      <td>-0.011344</td>\n",
              "    </tr>\n",
              "    <tr>\n",
              "      <th>50%</th>\n",
              "      <td>0.049753</td>\n",
              "      <td>0.004279</td>\n",
              "    </tr>\n",
              "    <tr>\n",
              "      <th>75%</th>\n",
              "      <td>0.067470</td>\n",
              "      <td>0.019625</td>\n",
              "    </tr>\n",
              "    <tr>\n",
              "      <th>max</th>\n",
              "      <td>0.185393</td>\n",
              "      <td>0.042057</td>\n",
              "    </tr>\n",
              "  </tbody>\n",
              "</table>\n",
              "</div>"
            ],
            "text/plain": [
              "State                             0           1\n",
              "Portfolio Returns count  122.000000  129.000000\n",
              "                  mean     0.007424    0.005006\n",
              "                  std      0.085995    0.019745\n",
              "                  min     -0.234207   -0.030293\n",
              "                  25%     -0.057324   -0.011344\n",
              "                  50%      0.049753    0.004279\n",
              "                  75%      0.067470    0.019625\n",
              "                  max      0.185393    0.042057"
            ]
          },
          "metadata": {
            "tags": []
          }
        },
        {
          "output_type": "display_data",
          "data": {
            "image/png": "[encoded data removed]",
            "text/plain": [
              "<Figure size 864x504 with 1 Axes>"
            ]
          },
          "metadata": {
            "tags": [],
            "needs_background": "light"
          }
        },
        {
          "output_type": "display_data",
          "data": {
            "text/html": [
              "<div>\n",
              "<style scoped>\n",
              "    .dataframe tbody tr th:only-of-type {\n",
              "        vertical-align: middle;\n",
              "    }\n",
              "\n",
              "    .dataframe tbody tr th {\n",
              "        vertical-align: top;\n",
              "    }\n",
              "\n",
              "    .dataframe thead th {\n",
              "        text-align: right;\n",
              "    }\n",
              "</style>\n",
              "<table border=\"1\" class=\"dataframe\">\n",
              "  <thead>\n",
              "    <tr style=\"text-align: right;\">\n",
              "      <th></th>\n",
              "      <th>State</th>\n",
              "      <th>0</th>\n",
              "      <th>1</th>\n",
              "    </tr>\n",
              "  </thead>\n",
              "  <tbody>\n",
              "    <tr>\n",
              "      <th rowspan=\"8\" valign=\"top\">Portfolio Returns</th>\n",
              "      <th>count</th>\n",
              "      <td>208.000000</td>\n",
              "      <td>43.000000</td>\n",
              "    </tr>\n",
              "    <tr>\n",
              "      <th>mean</th>\n",
              "      <td>0.010033</td>\n",
              "      <td>-0.022676</td>\n",
              "    </tr>\n",
              "    <tr>\n",
              "      <th>std</th>\n",
              "      <td>0.035153</td>\n",
              "      <td>0.127366</td>\n",
              "    </tr>\n",
              "    <tr>\n",
              "      <th>min</th>\n",
              "      <td>-0.056197</td>\n",
              "      <td>-0.188389</td>\n",
              "    </tr>\n",
              "    <tr>\n",
              "      <th>25%</th>\n",
              "      <td>-0.017295</td>\n",
              "      <td>-0.112937</td>\n",
              "    </tr>\n",
              "    <tr>\n",
              "      <th>50%</th>\n",
              "      <td>0.010071</td>\n",
              "      <td>-0.068043</td>\n",
              "    </tr>\n",
              "    <tr>\n",
              "      <th>75%</th>\n",
              "      <td>0.034300</td>\n",
              "      <td>0.094080</td>\n",
              "    </tr>\n",
              "    <tr>\n",
              "      <th>max</th>\n",
              "      <td>0.088920</td>\n",
              "      <td>0.248450</td>\n",
              "    </tr>\n",
              "  </tbody>\n",
              "</table>\n",
              "</div>"
            ],
            "text/plain": [
              "State                             0          1\n",
              "Portfolio Returns count  208.000000  43.000000\n",
              "                  mean     0.010033  -0.022676\n",
              "                  std      0.035153   0.127366\n",
              "                  min     -0.056197  -0.188389\n",
              "                  25%     -0.017295  -0.112937\n",
              "                  50%      0.010071  -0.068043\n",
              "                  75%      0.034300   0.094080\n",
              "                  max      0.088920   0.248450"
            ]
          },
          "metadata": {
            "tags": []
          }
        },
        {
          "output_type": "display_data",
          "data": {
            "image/png": "[encoded data removed]",
            "text/plain": [
              "<Figure size 864x504 with 1 Axes>"
            ]
          },
          "metadata": {
            "tags": [],
            "needs_background": "light"
          }
        },
        {
          "output_type": "display_data",
          "data": {
            "text/html": [
              "<div>\n",
              "<style scoped>\n",
              "    .dataframe tbody tr th:only-of-type {\n",
              "        vertical-align: middle;\n",
              "    }\n",
              "\n",
              "    .dataframe tbody tr th {\n",
              "        vertical-align: top;\n",
              "    }\n",
              "\n",
              "    .dataframe thead th {\n",
              "        text-align: right;\n",
              "    }\n",
              "</style>\n",
              "<table border=\"1\" class=\"dataframe\">\n",
              "  <thead>\n",
              "    <tr style=\"text-align: right;\">\n",
              "      <th></th>\n",
              "      <th>State</th>\n",
              "      <th>0</th>\n",
              "      <th>1</th>\n",
              "    </tr>\n",
              "  </thead>\n",
              "  <tbody>\n",
              "    <tr>\n",
              "      <th rowspan=\"8\" valign=\"top\">Portfolio Returns</th>\n",
              "      <th>count</th>\n",
              "      <td>77.000000</td>\n",
              "      <td>174.000000</td>\n",
              "    </tr>\n",
              "    <tr>\n",
              "      <th>mean</th>\n",
              "      <td>0.002352</td>\n",
              "      <td>0.010437</td>\n",
              "    </tr>\n",
              "    <tr>\n",
              "      <th>std</th>\n",
              "      <td>0.127073</td>\n",
              "      <td>0.030707</td>\n",
              "    </tr>\n",
              "    <tr>\n",
              "      <th>min</th>\n",
              "      <td>-0.362136</td>\n",
              "      <td>-0.050633</td>\n",
              "    </tr>\n",
              "    <tr>\n",
              "      <th>25%</th>\n",
              "      <td>-0.084635</td>\n",
              "      <td>-0.012242</td>\n",
              "    </tr>\n",
              "    <tr>\n",
              "      <th>50%</th>\n",
              "      <td>0.066897</td>\n",
              "      <td>0.013187</td>\n",
              "    </tr>\n",
              "    <tr>\n",
              "      <th>75%</th>\n",
              "      <td>0.096202</td>\n",
              "      <td>0.034561</td>\n",
              "    </tr>\n",
              "    <tr>\n",
              "      <th>max</th>\n",
              "      <td>0.253554</td>\n",
              "      <td>0.065923</td>\n",
              "    </tr>\n",
              "  </tbody>\n",
              "</table>\n",
              "</div>"
            ],
            "text/plain": [
              "State                            0           1\n",
              "Portfolio Returns count  77.000000  174.000000\n",
              "                  mean    0.002352    0.010437\n",
              "                  std     0.127073    0.030707\n",
              "                  min    -0.362136   -0.050633\n",
              "                  25%    -0.084635   -0.012242\n",
              "                  50%     0.066897    0.013187\n",
              "                  75%     0.096202    0.034561\n",
              "                  max     0.253554    0.065923"
            ]
          },
          "metadata": {
            "tags": []
          }
        }
      ]
    },
    {
      "cell_type": "markdown",
      "metadata": {
        "id": "3FA2hl4tINJs"
      },
      "source": [
        "The 2 risk regimes are well detected thanks to the GMM clustering. To my opinion, it is more visual than the VaR even though it doesn't give an exact value of the risk we are under. We are not constrained in term of risk level we would like, so, with a good calibration it could be very efficient. \n",
        "Also, a big advantage is that we don't need lot's of data to train the model."
      ]
    },
    {
      "cell_type": "markdown",
      "metadata": {
        "id": "-ruX7UiDrhzs"
      },
      "source": [
        "##### **Estimate multivariate gaussian parameters:** (2 stoks)"
      ]
    },
    {
      "cell_type": "markdown",
      "metadata": {
        "id": "6-HqMQJP8OzS"
      },
      "source": [
        "Applying this method to the portfolio returns is not taking full advantage of the gaussian mixture model that can work in d dimension. \n",
        "\n",
        "In what is comming next we are going to evaluate the multivariate gaussian mixture that compose the portfolio.\n",
        "To do so, we will feed the daily returns of 2 stocks and get 2 multivariate with respect to 2 compoenents. **I believe it is far fetch to think that each component is corresponding to a particular stock**.\n",
        "\n",
        "Multivariate gaussians is a more realistic distribution assumption for the return of a given stock in a portfolio."
      ]
    },
    {
      "cell_type": "code",
      "metadata": {
        "id": "50ibZMG5tDfe",
        "outputId": "8348897e-a193-4816-ab3c-75d6ea77fd65",
        "colab": {
          "base_uri": "https://localhost:8080/"
        }
      },
      "source": [
        "X = port_change.iloc[:,:2]\n",
        "\n",
        "# initialize lists of information\n",
        "pred_levels = []\n",
        "pred_covariances = []\n",
        "pred_means = []\n",
        "\n",
        "# initialize parameters \n",
        "n_components = 2 \n",
        "n_split = 4 # default value \n",
        "lookback = 252 # 1 trading year => display by year (to be reduce to 21 if you want by month)\n",
        "\n",
        "tscv = TimeSeriesSplit(n_splits=n_split, max_train_size=lookback)\n",
        "gmm = GaussianMixture(n_components) \n",
        "\n",
        "#x = np.stack((X.iloc[:,0],X.iloc[:,1]))\n",
        "\n",
        "for i, (train, test) in enumerate(tscv.split(X)): \n",
        "    \n",
        "    # Using the indexes returned to split the data into chunk\n",
        "    tmp_train_set = X.iloc[train] \n",
        "    tmp_test_set = X.iloc[test] \n",
        "\n",
        "    # Fit the GMM model for the dataset which expresses the dataset as a mixture of 2 Gaussian Distribution\n",
        "    # covariance type is 'full' by defult, so, each component has its own general covariance matrix  \n",
        "    gmm.fit(tmp_train_set) \n",
        "    \n",
        "    # predict hidden states\n",
        "    states_proba= gmm.predict_proba(tmp_test_set)\n",
        "    states = gmm.predict(tmp_test_set)\n",
        "\n",
        "    \n",
        "    # Update lists\n",
        "    pred_levels.append(states)\n",
        "    pred_means.append(gmm.means_)\n",
        "    pred_covariances.append(gmm.covariances_) \n",
        "\n",
        "\n",
        "    # display\n",
        "    print('')\n",
        "    print('Parameters multivariate gaussian associate to component 0:')\n",
        "    print('covariance matrix')\n",
        "    print(gmm.covariances_[0])\n",
        "    print('means')\n",
        "    print(gmm.means_[0])\n",
        "    print('')\n",
        "    print('Parameters multivariate gaussian associate to component 1:')\n",
        "    print('covariance matrix')\n",
        "    print(gmm.covariances_[1])\n",
        "    print('means')\n",
        "    print(gmm.means_[1])\n",
        "    print('')\n",
        "    print('*'*70)\n",
        "    \n",
        "\n",
        " "
      ],
      "execution_count": null,
      "outputs": [
        {
          "output_type": "stream",
          "text": [
            "\n",
            "Parameters multivariate gaussian associate to component 0:\n",
            "covariance matrix\n",
            "[[0.02083336 0.00133264]\n",
            " [0.00133264 0.00600649]]\n",
            "means\n",
            "[ 0.03508842 -0.01573277]\n",
            "\n",
            "Parameters multivariate gaussian associate to component 1:\n",
            "covariance matrix\n",
            "[[0.00146117 0.00018836]\n",
            " [0.00018836 0.00041542]]\n",
            "means\n",
            "[0.00458731 0.00151733]\n",
            "\n",
            "**********************************************************************\n",
            "\n",
            "Parameters multivariate gaussian associate to component 0:\n",
            "covariance matrix\n",
            "[[0.00110559 0.00013483]\n",
            " [0.00013483 0.0002924 ]]\n",
            "means\n",
            "[0.00478748 0.00260042]\n",
            "\n",
            "Parameters multivariate gaussian associate to component 1:\n",
            "covariance matrix\n",
            "[[ 0.00473934 -0.00131976]\n",
            " [-0.00131976  0.0004455 ]]\n",
            "means\n",
            "[-0.1393487  -0.02131751]\n",
            "\n",
            "**********************************************************************\n",
            "\n",
            "Parameters multivariate gaussian associate to component 0:\n",
            "covariance matrix\n",
            "[[0.00337797 0.00081668]\n",
            " [0.00081668 0.0016063 ]]\n",
            "means\n",
            "[0.00471437 0.00025727]\n",
            "\n",
            "Parameters multivariate gaussian associate to component 1:\n",
            "covariance matrix\n",
            "[[0.00055973 0.000192  ]\n",
            " [0.000192   0.00039127]]\n",
            "means\n",
            "[0.00255775 0.00252503]\n",
            "\n",
            "**********************************************************************\n",
            "\n",
            "Parameters multivariate gaussian associate to component 0:\n",
            "covariance matrix\n",
            "[[0.00040882 0.00015968]\n",
            " [0.00015968 0.00025156]]\n",
            "means\n",
            "[0.00193521 0.0001362 ]\n",
            "\n",
            "Parameters multivariate gaussian associate to component 1:\n",
            "covariance matrix\n",
            "[[0.00323784 0.00092932]\n",
            " [0.00092932 0.00124199]]\n",
            "means\n",
            "[0.00606248 0.00040822]\n",
            "\n",
            "**********************************************************************\n"
          ],
          "name": "stdout"
        }
      ]
    }
  ]
}
{
  "nbformat": 4,
  "nbformat_minor": 0,
  "metadata": {
    "colab": {
      "name": "Stock_Market_Direction_Prediction.ipynb",
      "provenance": [],
      "collapsed_sections": [
        "UaVMQu38TwfT",
        "zYYEDZd4Zhsg",
        "a8lCIEjfG3PQ",
        "DMkC9Ej8Sc5y",
        "q73-R13cWdsf",
        "aWKBzlHuXYX6",
        "vqfY0z92jvzX",
        "8rD_K_93szC4",
        "yl3fgisVBdqr",
        "VqlMrIN-3fkW",
        "4r9pjdpZpXRG",
        "RT6Z-KlWk6S5",
        "Ay0DvJJHUfKK",
        "75xSTtF2mSKt",
        "5FlKxiXzq860"
      ]
    },
    "kernelspec": {
      "name": "python3",
      "display_name": "Python 3"
    }
  },
  "cells": [
    {
      "cell_type": "markdown",
      "metadata": {
        "id": "BYXHkI_e6LhW"
      },
      "source": [
        "### **Motivation**\n",
        "\n",
        "Few days ago, I was reading machine learning for asset managers by Marcos Lopez de Prado. He answers the question \"why don't you discuss a wide range of ML algorithm?\" and then take an example to explain why once we have engineered the features, choosing the algorithm play a second role.\n",
        "\n",
        "#### **Here is the extract of this passage:**\n",
        "Compare an algorithm that forecasted a change of 1, but received a realized change of 3, with another algorithm that forecasted a change of -1, but received a realized change of 1. In both cases, the forecast error is 2. In many industrial applications, we would be indifferent between both errors. That is not the case in finance. In the first instance, an investor makes one-third of the predicted profit, whereas in the second instance the investor suffers a loss equal to the predicted profit. Failing to predict the size is an opportunity loss, but failing to predict the sign is an actual loss. \n",
        "\n",
        "\n",
        "After reading, I decided to predict the sign of the movement n days ahead of us.\n",
        "I found a research paper that helped me a lot on finding relevant features. Here is the link: [paper](https://arxiv.org/pdf/1605.00003.pdf).\n"
      ]
    },
    {
      "cell_type": "markdown",
      "metadata": {
        "id": "UaVMQu38TwfT"
      },
      "source": [
        "### **Libraries**"
      ]
    },
    {
      "cell_type": "code",
      "metadata": {
        "id": "OZWC6YoDD4eS",
        "outputId": "581fa634-3b4f-455b-cbff-9f104808254f",
        "colab": {
          "base_uri": "https://localhost:8080/"
        }
      },
      "source": [
        "!pip install yfinance\n",
        "import yfinance as yf \n",
        "import pandas as pd\n",
        "import numpy as np\n",
        "import matplotlib.pyplot as plt\n",
        "import seaborn as sns\n",
        "\n",
        "from sklearn.ensemble import RandomForestClassifier\n",
        "from sklearn.model_selection import train_test_split\n",
        "from sklearn.metrics import confusion_matrix\n",
        "from sklearn.metrics import r2_score\n",
        "from sklearn.metrics import classification_report\n",
        "from sklearn.model_selection import RandomizedSearchCV\n"
      ],
      "execution_count": null,
      "outputs": [
        {
          "output_type": "stream",
          "text": [
            "Collecting yfinance\n",
            "  Downloading https://files.pythonhosted.org/packages/7a/e8/b9d7104d3a4bf39924799067592d9e59119fcfc900a425a12e80a3123ec8/yfinance-0.1.55.tar.gz\n",
            "Requirement already satisfied: pandas>=0.24 in /usr/local/lib/python3.6/dist-packages (from yfinance) (1.1.4)\n",
            "Requirement already satisfied: numpy>=1.15 in /usr/local/lib/python3.6/dist-packages (from yfinance) (1.18.5)\n",
            "Requirement already satisfied: requests>=2.20 in /usr/local/lib/python3.6/dist-packages (from yfinance) (2.23.0)\n",
            "Requirement already satisfied: multitasking>=0.0.7 in /usr/local/lib/python3.6/dist-packages (from yfinance) (0.0.9)\n",
            "Collecting lxml>=4.5.1\n",
            "\u001b[?25l  Downloading https://files.pythonhosted.org/packages/64/28/0b761b64ecbd63d272ed0e7a6ae6e4402fc37886b59181bfdf274424d693/lxml-4.6.1-cp36-cp36m-manylinux1_x86_64.whl (5.5MB)\n",
            "\u001b[K     |████████████████████████████████| 5.5MB 4.7MB/s \n",
            "\u001b[?25hRequirement already satisfied: python-dateutil>=2.7.3 in /usr/local/lib/python3.6/dist-packages (from pandas>=0.24->yfinance) (2.8.1)\n",
            "Requirement already satisfied: pytz>=2017.2 in /usr/local/lib/python3.6/dist-packages (from pandas>=0.24->yfinance) (2018.9)\n",
            "Requirement already satisfied: idna<3,>=2.5 in /usr/local/lib/python3.6/dist-packages (from requests>=2.20->yfinance) (2.10)\n",
            "Requirement already satisfied: certifi>=2017.4.17 in /usr/local/lib/python3.6/dist-packages (from requests>=2.20->yfinance) (2020.6.20)\n",
            "Requirement already satisfied: chardet<4,>=3.0.2 in /usr/local/lib/python3.6/dist-packages (from requests>=2.20->yfinance) (3.0.4)\n",
            "Requirement already satisfied: urllib3!=1.25.0,!=1.25.1,<1.26,>=1.21.1 in /usr/local/lib/python3.6/dist-packages (from requests>=2.20->yfinance) (1.24.3)\n",
            "Requirement already satisfied: six>=1.5 in /usr/local/lib/python3.6/dist-packages (from python-dateutil>=2.7.3->pandas>=0.24->yfinance) (1.15.0)\n",
            "Building wheels for collected packages: yfinance\n",
            "  Building wheel for yfinance (setup.py) ... \u001b[?25l\u001b[?25hdone\n",
            "  Created wheel for yfinance: filename=yfinance-0.1.55-py2.py3-none-any.whl size=22618 sha256=367ba06415536eac42b5df4cd03d16a96cf1e6f7185a18befa78f2b5eebc362e\n",
            "  Stored in directory: /root/.cache/pip/wheels/04/98/cc/2702a4242d60bdc14f48b4557c427ded1fe92aedf257d4565c\n",
            "Successfully built yfinance\n",
            "Installing collected packages: lxml, yfinance\n",
            "  Found existing installation: lxml 4.2.6\n",
            "    Uninstalling lxml-4.2.6:\n",
            "      Successfully uninstalled lxml-4.2.6\n",
            "Successfully installed lxml-4.6.1 yfinance-0.1.55\n"
          ],
          "name": "stdout"
        }
      ]
    },
    {
      "cell_type": "markdown",
      "metadata": {
        "id": "zYYEDZd4Zhsg"
      },
      "source": [
        "### **Data collection**"
      ]
    },
    {
      "cell_type": "code",
      "metadata": {
        "id": "diY0HyOyFwgD"
      },
      "source": [
        "ticker = yf.Ticker('WMT')\n",
        "# get historical market data over the last 5 years\n",
        "hist = ticker.history(start=\"2018-10-01\", end=\"2020-10-01\")"
      ],
      "execution_count": null,
      "outputs": []
    },
    {
      "cell_type": "code",
      "metadata": {
        "id": "WCw_IDXcOJpJ"
      },
      "source": [
        "dataset = hist[['Open','Close', 'Low', 'High','Volume']]"
      ],
      "execution_count": null,
      "outputs": []
    },
    {
      "cell_type": "code",
      "metadata": {
        "id": "aP9FqSGz71Hm",
        "outputId": "1126f25d-d357-4601-e646-260bead8901a",
        "colab": {
          "base_uri": "https://localhost:8080/",
          "height": 420
        }
      },
      "source": [
        "dataset"
      ],
      "execution_count": null,
      "outputs": [
        {
          "output_type": "execute_result",
          "data": {
            "text/html": [
              "<div>\n",
              "<style scoped>\n",
              "    .dataframe tbody tr th:only-of-type {\n",
              "        vertical-align: middle;\n",
              "    }\n",
              "\n",
              "    .dataframe tbody tr th {\n",
              "        vertical-align: top;\n",
              "    }\n",
              "\n",
              "    .dataframe thead th {\n",
              "        text-align: right;\n",
              "    }\n",
              "</style>\n",
              "<table border=\"1\" class=\"dataframe\">\n",
              "  <thead>\n",
              "    <tr style=\"text-align: right;\">\n",
              "      <th></th>\n",
              "      <th>Open</th>\n",
              "      <th>Close</th>\n",
              "      <th>Low</th>\n",
              "      <th>High</th>\n",
              "      <th>Volume</th>\n",
              "    </tr>\n",
              "    <tr>\n",
              "      <th>Date</th>\n",
              "      <th></th>\n",
              "      <th></th>\n",
              "      <th></th>\n",
              "      <th></th>\n",
              "      <th></th>\n",
              "    </tr>\n",
              "  </thead>\n",
              "  <tbody>\n",
              "    <tr>\n",
              "      <th>2018-10-01</th>\n",
              "      <td>90.737977</td>\n",
              "      <td>90.843834</td>\n",
              "      <td>90.497395</td>\n",
              "      <td>91.094041</td>\n",
              "      <td>4994300</td>\n",
              "    </tr>\n",
              "    <tr>\n",
              "      <th>2018-10-02</th>\n",
              "      <td>90.391540</td>\n",
              "      <td>91.565582</td>\n",
              "      <td>90.314552</td>\n",
              "      <td>92.008253</td>\n",
              "      <td>7754600</td>\n",
              "    </tr>\n",
              "    <tr>\n",
              "      <th>2018-10-03</th>\n",
              "      <td>91.902398</td>\n",
              "      <td>90.526268</td>\n",
              "      <td>90.497399</td>\n",
              "      <td>91.940892</td>\n",
              "      <td>6327400</td>\n",
              "    </tr>\n",
              "    <tr>\n",
              "      <th>2018-10-04</th>\n",
              "      <td>90.526247</td>\n",
              "      <td>90.660973</td>\n",
              "      <td>89.689019</td>\n",
              "      <td>90.940049</td>\n",
              "      <td>6045300</td>\n",
              "    </tr>\n",
              "    <tr>\n",
              "      <th>2018-10-05</th>\n",
              "      <td>90.324167</td>\n",
              "      <td>89.794884</td>\n",
              "      <td>89.390707</td>\n",
              "      <td>90.641738</td>\n",
              "      <td>6693400</td>\n",
              "    </tr>\n",
              "    <tr>\n",
              "      <th>...</th>\n",
              "      <td>...</td>\n",
              "      <td>...</td>\n",
              "      <td>...</td>\n",
              "      <td>...</td>\n",
              "      <td>...</td>\n",
              "    </tr>\n",
              "    <tr>\n",
              "      <th>2020-09-24</th>\n",
              "      <td>135.729996</td>\n",
              "      <td>136.699997</td>\n",
              "      <td>135.070007</td>\n",
              "      <td>137.789993</td>\n",
              "      <td>9817700</td>\n",
              "    </tr>\n",
              "    <tr>\n",
              "      <th>2020-09-25</th>\n",
              "      <td>136.520004</td>\n",
              "      <td>137.270004</td>\n",
              "      <td>135.960007</td>\n",
              "      <td>137.539993</td>\n",
              "      <td>7539600</td>\n",
              "    </tr>\n",
              "    <tr>\n",
              "      <th>2020-09-28</th>\n",
              "      <td>137.160004</td>\n",
              "      <td>137.250000</td>\n",
              "      <td>136.720001</td>\n",
              "      <td>138.050003</td>\n",
              "      <td>7065700</td>\n",
              "    </tr>\n",
              "    <tr>\n",
              "      <th>2020-09-29</th>\n",
              "      <td>137.250000</td>\n",
              "      <td>137.139999</td>\n",
              "      <td>136.389999</td>\n",
              "      <td>138.139999</td>\n",
              "      <td>9234300</td>\n",
              "    </tr>\n",
              "    <tr>\n",
              "      <th>2020-09-30</th>\n",
              "      <td>137.389999</td>\n",
              "      <td>139.910004</td>\n",
              "      <td>137.199997</td>\n",
              "      <td>141.740005</td>\n",
              "      <td>11605300</td>\n",
              "    </tr>\n",
              "  </tbody>\n",
              "</table>\n",
              "<p>504 rows × 5 columns</p>\n",
              "</div>"
            ],
            "text/plain": [
              "                  Open       Close         Low        High    Volume\n",
              "Date                                                                \n",
              "2018-10-01   90.737977   90.843834   90.497395   91.094041   4994300\n",
              "2018-10-02   90.391540   91.565582   90.314552   92.008253   7754600\n",
              "2018-10-03   91.902398   90.526268   90.497399   91.940892   6327400\n",
              "2018-10-04   90.526247   90.660973   89.689019   90.940049   6045300\n",
              "2018-10-05   90.324167   89.794884   89.390707   90.641738   6693400\n",
              "...                ...         ...         ...         ...       ...\n",
              "2020-09-24  135.729996  136.699997  135.070007  137.789993   9817700\n",
              "2020-09-25  136.520004  137.270004  135.960007  137.539993   7539600\n",
              "2020-09-28  137.160004  137.250000  136.720001  138.050003   7065700\n",
              "2020-09-29  137.250000  137.139999  136.389999  138.139999   9234300\n",
              "2020-09-30  137.389999  139.910004  137.199997  141.740005  11605300\n",
              "\n",
              "[504 rows x 5 columns]"
            ]
          },
          "metadata": {
            "tags": []
          },
          "execution_count": 4
        }
      ]
    },
    {
      "cell_type": "markdown",
      "metadata": {
        "id": "a8lCIEjfG3PQ"
      },
      "source": [
        "### **Exponential Smoothing**\n",
        "\n",
        "The time series historical stock data is first exponentially smoothed. Exponential smoothing applies more weightage to the recent observation and exponentially decreasing weights to past observations. The exponentially smoothed statistic of a series Y can be recursively calculated as:\n",
        " \n",
        " $S_{t}=α*y_{t} + (1-α)s_{t-1}$, for $t>0$.\n",
        "\n",
        "α is the smoothing factor and 0 < α < 1. Larger values of α reduce the level of smoothing.\n",
        "When α = 1, the smoothed statistic becomes equal to the actual observation. \n",
        "\n",
        "This smoothing removes random variation or noise from the historical data allowing the model to easily identify long term price trend in the stock price behavior. "
      ]
    },
    {
      "cell_type": "code",
      "metadata": {
        "id": "adBqnKoWHCNJ"
      },
      "source": [
        "smoothed_dataset = dataset.ewm(alpha=0.3, adjust=False).mean()"
      ],
      "execution_count": null,
      "outputs": []
    },
    {
      "cell_type": "code",
      "metadata": {
        "id": "mSO7RA-LJQKZ",
        "outputId": "2c39eaf9-7227-4a47-a67b-02fda812116c",
        "colab": {
          "base_uri": "https://localhost:8080/",
          "height": 295
        }
      },
      "source": [
        "ax = plt.gca()\n",
        "dataset.plot(y=['Close'],kind ='line',color='red', ax=ax )\n",
        "smoothed_dataset.plot(y=['Close'],kind ='line',color='blue', ax=ax )"
      ],
      "execution_count": null,
      "outputs": [
        {
          "output_type": "execute_result",
          "data": {
            "text/plain": [
              "<matplotlib.axes._subplots.AxesSubplot at 0x7f74939a3908>"
            ]
          },
          "metadata": {
            "tags": []
          },
          "execution_count": 85
        },
        {
          "output_type": "display_data",
          "data": {
            "image/png": "[encoded data removed]",
            "text/plain": [
              "<Figure size 432x288 with 1 Axes>"
            ]
          },
          "metadata": {
            "tags": [],
            "needs_background": "light"
          }
        }
      ]
    },
    {
      "cell_type": "markdown",
      "metadata": {
        "id": "DMkC9Ej8Sc5y"
      },
      "source": [
        "### **Features Extraction**\n",
        "Technical indicators are calculated from the exponentially smoothed time series data which will be feature matrix use later in the notebook. "
      ]
    },
    {
      "cell_type": "markdown",
      "metadata": {
        "id": "q73-R13cWdsf"
      },
      "source": [
        "#### **RSI**\n",
        "\n",
        "RSI is a popular momentum indicator which determines whether the stock is overbought or oversold. A stock is said to be overbought when the demand unjustifiably pushes the price upwards. This condition is generallyt interpreted as a sign that the stock is overvalued and the price is likely to go down. A stock is said to be oversold when the price goes down sharply to a level below its true value. This is a result caused due to panic selling. RSI ranges from 0 to 100 and generally, when RSI is above 70, it may indicate that the stock is overbought and when RSI is below 30, it may indicate the stock is oversold."
      ]
    },
    {
      "cell_type": "code",
      "metadata": {
        "id": "Bz6mXM5GHjwf"
      },
      "source": [
        "def compute_RSI(dataset):\n",
        "  delta = dataset.Close.diff()\n",
        "  window = 14\n",
        "  up_days = delta.copy()\n",
        "  up_days[delta<=0]=0.0\n",
        "  down_days = abs(delta.copy())\n",
        "  down_days[delta>0]=0.0\n",
        "  RS_up = up_days.rolling(window).mean()\n",
        "  RS_down = down_days.rolling(window).mean()\n",
        "  rsi= 100-100/(1+RS_up/RS_down)\n",
        "  dataset['RSI'] = rsi\n"
      ],
      "execution_count": null,
      "outputs": []
    },
    {
      "cell_type": "markdown",
      "metadata": {
        "id": "aWKBzlHuXYX6"
      },
      "source": [
        "#### **Stochastic Oscillator**\n",
        "Stochastic Oscillator follows the speed or the momentum of the price. As a rule, momentum changes before the price changes. It measures the level of the closing price relative to low-high range over a period of time.\n",
        "\n",
        "*   C = Current Closing Price\n",
        "*   L14 = Lowest Low over the past 14 days \n",
        "*   H14 = Highest High over the past 14 days\n",
        "\n",
        "\n",
        "The formula for calculating Stochastic Oscillator is:\n",
        "$K=100∗ \\frac{(C−L14)}{(H14 − L14)}$\n",
        "\n"
      ]
    },
    {
      "cell_type": "code",
      "metadata": {
        "id": "6vfLTMoZXSYY"
      },
      "source": [
        "def compute_stochastic_oscialtor(dataset):\n",
        "  window = 14\n",
        "  highest_high = smoothed_dataset['High'].rolling(window).max()\n",
        "  lowest_low = dataset['Low'].rolling(window).min()\n",
        "  K = 100 * (dataset['Close']-lowest_low)/highest_high-lowest_low\n",
        "  dataset['K'] = K\n"
      ],
      "execution_count": null,
      "outputs": []
    },
    {
      "cell_type": "markdown",
      "metadata": {
        "id": "vqfY0z92jvzX"
      },
      "source": [
        "#### **Moving Average Convergence Divergence and signal line**\n",
        "\n",
        "When the MACD goes below the SingalLine, it indicates a sell signal. When it goes above the SignalLine, it indicates a buy signal.\n",
        "\n",
        "* MACD = Moving Average Convergence \n",
        "Divergence \n",
        "* C = Closing Price series\n",
        "* ${EMA}_{n}$ = n day Exponential Moving Average\n",
        "\n",
        "$MACD = {EMA}_{12}(C) − {EMA}_{26}(C)$\n",
        "\n",
        "$SignalLine = {EMA}_{9}(MACD) $\n"
      ]
    },
    {
      "cell_type": "code",
      "metadata": {
        "id": "0Bs924smj4U9"
      },
      "source": [
        "\n",
        "def compute_MACD_SL(dataset):\n",
        "  EMA12 = pd.Series.ewm(dataset['Close'],span=12,adjust = False).mean()\n",
        "  EMA26 = pd.Series.ewm(dataset['Close'],span=26, adjust=False,).mean()\n",
        "  MACD = EMA12-EMA26\n",
        "  dataset['MACD'] = MACD\n",
        "  SL = pd.Series.ewm(MACD, span=9, adjust=False).mean()\n",
        "  dataset['SL'] = SL\n"
      ],
      "execution_count": null,
      "outputs": []
    },
    {
      "cell_type": "markdown",
      "metadata": {
        "id": "8rD_K_93szC4"
      },
      "source": [
        "#### **Price Rate of change** \n",
        "\n",
        "It measures the most recent change in price with respect to the price in n days ago.\n",
        "\n",
        "* PROC(t) = Price Rate of Change at time t\n",
        "* C(t) = Closing price at time t\n",
        "\n",
        "$PROC(t) = \\frac{C(t) − C(t − n)}{C(t−n)}$"
      ]
    },
    {
      "cell_type": "code",
      "metadata": {
        "id": "nepl-5QRston"
      },
      "source": [
        "def compute_PROC(dataset, n):\n",
        "  N = dataset['Close'].diff(n)\n",
        "  D = dataset['Close'].shift(n)\n",
        "  PROC = N/D\n",
        "  dataset['PROC'] = PROC"
      ],
      "execution_count": null,
      "outputs": []
    },
    {
      "cell_type": "markdown",
      "metadata": {
        "id": "yl3fgisVBdqr"
      },
      "source": [
        "#### **On Balance VOlume**\n",
        "\n",
        "This technical indicator is used to find buying and selling trends of a stock. "
      ]
    },
    {
      "cell_type": "code",
      "metadata": {
        "id": "KERf9TXiBcvp"
      },
      "source": [
        "def compute_OBV(dataset):\n",
        "  OBV = (dataset['Volume'] * (~dataset['Close'].diff().le(0) * 2 -1)).cumsum()\n",
        "  dataset['OBV'] = OBV"
      ],
      "execution_count": null,
      "outputs": []
    },
    {
      "cell_type": "markdown",
      "metadata": {
        "id": "ZvPWwVC1Mg0v"
      },
      "source": [
        "#### **Adding the movement :**\n",
        "The target to be predicted in the ith day is calculated as follows:\n",
        "$target_{i} = Sign({close}_{i+d} − {close}_{i})$, where d is the number of days after which the prediction is to be made."
      ]
    },
    {
      "cell_type": "code",
      "metadata": {
        "id": "vkvxmhGTgCgm"
      },
      "source": [
        "def add_movement(dataset, d):\n",
        "  dataset['Movement'] = dataset['Close'].pct_change(d).apply(lambda x: 1 if x > 0 else -1 if x <= 0 else np.nan)"
      ],
      "execution_count": null,
      "outputs": []
    },
    {
      "cell_type": "markdown",
      "metadata": {
        "id": "VqlMrIN-3fkW"
      },
      "source": [
        "### **Building the features dataframe**\n"
      ]
    },
    {
      "cell_type": "code",
      "metadata": {
        "id": "4id_SD7T3qBb"
      },
      "source": [
        "features = smoothed_dataset\n",
        "compute_RSI(features)\n",
        "compute_stochastic_oscialtor(features)\n",
        "compute_MACD_SL(features)\n",
        "compute_PROC(features, 12)\n",
        "compute_OBV(features)\n",
        "add_movement(features, 10)"
      ],
      "execution_count": null,
      "outputs": []
    },
    {
      "cell_type": "markdown",
      "metadata": {
        "id": "4r9pjdpZpXRG"
      },
      "source": [
        "### **Perform Random Forest classification**\n",
        "\n",
        "\n",
        "\n"
      ]
    },
    {
      "cell_type": "code",
      "metadata": {
        "id": "6EF3i7S8M9__"
      },
      "source": [
        "def perform_rfr(features):\n",
        "  # Creating test and train set \n",
        "  X = features.iloc[:, :-1]\n",
        "  y = features.iloc[:, -1]\n",
        "  X_train, X_test, y_train, y_test = train_test_split(X, y, test_size = 0.2, random_state = 0)\n",
        "  # Regression : estimators = trees\n",
        "  classifier = RandomForestClassifier(n_estimators = 100, random_state = 0, max_features='sqrt', max_depth=20, min_samples_leaf = 4,min_samples_split = 5, bootstrap=False)\n",
        "  classifier.fit(X_train, y_train)\n",
        "\n",
        "  # prediction\n",
        "  y_pred = classifier.predict(X_test)\n",
        "  regression_score = r2_score(y_test, y_pred)\n",
        "\n",
        "  # Get the confusion matrix\n",
        "  mconfusion = confusion_matrix(y_pred, y_test)\n",
        "\n",
        "  return regression_score, mconfusion, X_train, X_test,y_train, y_pred, y_test, classifier\n"
      ],
      "execution_count": null,
      "outputs": []
    },
    {
      "cell_type": "code",
      "metadata": {
        "id": "O90FHf1-bAJY"
      },
      "source": [
        "features = features.iloc[30:,:] # dump the first mo,th to get rid of the nan values "
      ],
      "execution_count": null,
      "outputs": []
    },
    {
      "cell_type": "code",
      "metadata": {
        "id": "QQ0qCNUrM43O"
      },
      "source": [
        "score, confusion, X_train, X_test, y_train, y_pred, y_test, classifier = perform_rfr(features)"
      ],
      "execution_count": null,
      "outputs": []
    },
    {
      "cell_type": "code",
      "metadata": {
        "id": "cprXcxH6u-Ml"
      },
      "source": [
        "def display_Confusion_matrix(cf_matrix):\n",
        "  plt.figure()\n",
        "  group_names = ['True Neg','False Pos','False Neg','True Pos']\n",
        "  group_counts = [\"{0:0.0f}\".format(value) for value in cf_matrix.flatten()]\n",
        "  group_percentages = [\"{0:.2%}\".format(value) for value in cf_matrix.flatten()/np.sum(cf_matrix)]\n",
        "\n",
        "  labels = [f\"{v1}\\n{v2}\\n{v3}\" for v1, v2, v3 in zip(group_names,group_counts,group_percentages)]\n",
        "  labels = np.asarray(labels).reshape(2,2)\n",
        "\n",
        "  sns.heatmap(cf_matrix, annot=labels, fmt='', cmap='Blues', xticklabels = ['-1','1'], yticklabels=['-1','1'], cbar=False)\n",
        "  plt.xlabel('Predicted')\n",
        "  plt.ylabel('Actual')\n",
        "  plt.show()"
      ],
      "execution_count": null,
      "outputs": []
    },
    {
      "cell_type": "code",
      "metadata": {
        "id": "c6twe3WGOaPC",
        "outputId": "6aa3a381-009b-496c-8144-1140b72df1cc",
        "colab": {
          "base_uri": "https://localhost:8080/",
          "height": 278
        }
      },
      "source": [
        "display_Confusion_matrix(confusion)"
      ],
      "execution_count": null,
      "outputs": [
        {
          "output_type": "display_data",
          "data": {
            "image/png": "[encoded data removed]",
            "text/plain": [
              "<Figure size 432x288 with 1 Axes>"
            ]
          },
          "metadata": {
            "tags": [],
            "needs_background": "light"
          }
        }
      ]
    },
    {
      "cell_type": "code",
      "metadata": {
        "id": "4fWXJlPl15KN",
        "outputId": "794dad8d-afa8-49c5-eab1-555b256fbf68",
        "colab": {
          "base_uri": "https://localhost:8080/"
        }
      },
      "source": [
        "print(classification_report(y_test,y_pred))"
      ],
      "execution_count": null,
      "outputs": [
        {
          "output_type": "stream",
          "text": [
            "              precision    recall  f1-score   support\n",
            "\n",
            "        -1.0       0.88      0.95      0.91        44\n",
            "         1.0       0.96      0.88      0.92        51\n",
            "\n",
            "    accuracy                           0.92        95\n",
            "   macro avg       0.92      0.92      0.92        95\n",
            "weighted avg       0.92      0.92      0.92        95\n",
            "\n"
          ],
          "name": "stdout"
        }
      ]
    },
    {
      "cell_type": "markdown",
      "metadata": {
        "id": "RT6Z-KlWk6S5"
      },
      "source": [
        "### **Looking for ways of improvements**"
      ]
    },
    {
      "cell_type": "markdown",
      "metadata": {
        "id": "lZkD5UyMl8j_"
      },
      "source": [
        "One easy way to improve the model would be to feed more data. Most likely, it would give more details about how things work together to the classifer."
      ]
    },
    {
      "cell_type": "markdown",
      "metadata": {
        "id": "Ay0DvJJHUfKK"
      },
      "source": [
        "#### **Feature Selection**"
      ]
    },
    {
      "cell_type": "code",
      "metadata": {
        "id": "IluR8NxJPZId"
      },
      "source": [
        "def display_features_relevance(regressor,features):\n",
        "  fig = plt.figure()\n",
        "  Relevances = pd.DataFrame({'Relevance':classifier.feature_importances_*100}, index=features.columns.values[:-1])\n",
        "  Relevances.sort_values('Relevance', axis=0, ascending=True).plot(kind='barh', color='r', )\n",
        "  plt.xlabel('Variable Relevance')\n",
        "  plt.gca().legend_ = None\n",
        "  plt.show()"
      ],
      "execution_count": null,
      "outputs": []
    },
    {
      "cell_type": "code",
      "metadata": {
        "id": "xcvcre4DP5sK"
      },
      "source": [
        "def display_correlation_matrix(features):\n",
        "  correlations = features.drop(['Direction'], axis =1).corr()\n",
        "  # plot correlation matrix\n",
        "  fig = plt.figure()\n",
        "  ax = fig.add_subplot(111)\n",
        "  cax = ax.matshow(correlations, vmin=-1, vmax=1)\n",
        "  fig.colorbar(cax)\n",
        "  ticks = np.arange(0,12,1)\n",
        "  ax.set_xticks(ticks)\n",
        "  ax.set_yticks(ticks)\n",
        "  index=features.columns.values[:-1]\n",
        "  ax.set_xticklabels(index)\n",
        "  plt.xticks(rotation =45)\n",
        "  ax.set_yticklabels(index)\n",
        "  plt.show()\n"
      ],
      "execution_count": null,
      "outputs": []
    },
    {
      "cell_type": "code",
      "metadata": {
        "id": "WpSo3m9sSH2R",
        "outputId": "f26e00a2-a5fb-4673-f32d-7ec5cc8b43e6",
        "colab": {
          "base_uri": "https://localhost:8080/",
          "height": 295
        }
      },
      "source": [
        "display_correlation_matrix(features)"
      ],
      "execution_count": null,
      "outputs": [
        {
          "output_type": "display_data",
          "data": {
            "image/png": "[encoded data removed]",
            "text/plain": [
              "<Figure size 432x288 with 2 Axes>"
            ]
          },
          "metadata": {
            "tags": [],
            "needs_background": "light"
          }
        }
      ]
    },
    {
      "cell_type": "markdown",
      "metadata": {
        "id": "dbD9oUD2oHk0"
      },
      "source": [
        "Unsurprisingly, there is a high correlation between the open, close, low and high features. However, we find out that those features have a high correlation with the on balance volume as well. It is interesting since the frist features don't have a high correlation with the volume feature. Also, we can notice that the stochastic oscilator (k) is the most singular feature."
      ]
    },
    {
      "cell_type": "code",
      "metadata": {
        "id": "Fm6jbK1tViz7",
        "outputId": "15b9e22b-ae62-4dba-b4bc-69c25e2eca2e",
        "colab": {
          "base_uri": "https://localhost:8080/",
          "height": 295
        }
      },
      "source": [
        "display_features_relevance(regressor, features)"
      ],
      "execution_count": null,
      "outputs": [
        {
          "output_type": "display_data",
          "data": {
            "text/plain": [
              "<Figure size 432x288 with 0 Axes>"
            ]
          },
          "metadata": {
            "tags": []
          }
        },
        {
          "output_type": "display_data",
          "data": {
            "image/png": "[encoded data removed]",
            "text/plain": [
              "<Figure size 432x288 with 1 Axes>"
            ]
          },
          "metadata": {
            "tags": [],
            "needs_background": "light"
          }
        }
      ]
    },
    {
      "cell_type": "markdown",
      "metadata": {
        "id": "2vGOsllipird"
      },
      "source": [
        "Thanks to this graph I got rid of the Wiliams indicator feature. The relevance was super high compare to the rest which I didn't like for some reasons. I also found out that it was can of a duplicate of the stochastic oscialtor feature."
      ]
    },
    {
      "cell_type": "markdown",
      "metadata": {
        "id": "75xSTtF2mSKt"
      },
      "source": [
        "#### **Looking for best parameters** \n",
        "At first, I used the regressor with the basic parameters. By doing what follows, I tried to make it better. I gain a little bit in accuracy but it is marginal!"
      ]
    },
    {
      "cell_type": "code",
      "metadata": {
        "id": "cpR6SBBCMN0E",
        "outputId": "1e022cac-2c9d-402b-90d0-42c89cf38c02",
        "colab": {
          "base_uri": "https://localhost:8080/"
        }
      },
      "source": [
        "# Number of trees in random forest\n",
        "n_estimators = [int(x) for x in np.linspace(start = 50, stop = 500, num = 10)]\n",
        "# Number of features to consider at every split\n",
        "max_features = ['auto', 'sqrt']\n",
        "# Maximum number of levels in tree\n",
        "max_depth = [int(x) for x in np.linspace(10, 110, num = 11)]\n",
        "max_depth.append(None)\n",
        "# Minimum number of samples required to split a node\n",
        "min_samples_split = [2, 5, 10]\n",
        "# Minimum number of samples required at each leaf node\n",
        "min_samples_leaf = [1, 2, 4]\n",
        "# Method of selecting samples for training each tree\n",
        "bootstrap = [True, False]\n",
        "# Create the random grid\n",
        "random_grid = {'n_estimators': n_estimators,\n",
        "               'max_features': max_features,\n",
        "               'max_depth': max_depth,\n",
        "               'min_samples_split': min_samples_split,\n",
        "               'min_samples_leaf': min_samples_leaf,\n",
        "               'bootstrap': bootstrap}\n",
        "print(random_grid)\n",
        "\n",
        "# Use the random grid to search for best hyperparameters\n",
        "# First create the base model to tune\n",
        "rf = RandomForestClassifier()\n",
        "# Random search of parameters, using 3 fold cross validation, \n",
        "# search across 100 different combinations, and use all available cores\n",
        "rf_random = RandomizedSearchCV(estimator = rf, param_distributions = random_grid, n_iter = 100, cv = 3, verbose=2, random_state=0, n_jobs = -1)\n",
        "# Fit the random search model\n",
        "rf_random.fit(X_train, y_train)\n",
        "\n",
        "rf_random.best_params_"
      ],
      "execution_count": null,
      "outputs": [
        {
          "output_type": "stream",
          "text": [
            "{'n_estimators': [50, 100, 150, 200, 250, 300, 350, 400, 450, 500], 'max_features': ['auto', 'sqrt'], 'max_depth': [10, 20, 30, 40, 50, 60, 70, 80, 90, 100, 110, None], 'min_samples_split': [2, 5, 10], 'min_samples_leaf': [1, 2, 4], 'bootstrap': [True, False]}\n",
            "Fitting 3 folds for each of 100 candidates, totalling 300 fits\n"
          ],
          "name": "stdout"
        },
        {
          "output_type": "stream",
          "text": [
            "[Parallel(n_jobs=-1)]: Using backend LokyBackend with 2 concurrent workers.\n",
            "[Parallel(n_jobs=-1)]: Done  37 tasks      | elapsed:   10.5s\n",
            "[Parallel(n_jobs=-1)]: Done 158 tasks      | elapsed:   57.4s\n",
            "[Parallel(n_jobs=-1)]: Done 300 out of 300 | elapsed:  1.6min finished\n"
          ],
          "name": "stderr"
        },
        {
          "output_type": "execute_result",
          "data": {
            "text/plain": [
              "{'bootstrap': False,\n",
              " 'max_depth': 20,\n",
              " 'max_features': 'sqrt',\n",
              " 'min_samples_leaf': 4,\n",
              " 'min_samples_split': 5,\n",
              " 'n_estimators': 100}"
            ]
          },
          "metadata": {
            "tags": []
          },
          "execution_count": 34
        }
      ]
    },
    {
      "cell_type": "markdown",
      "metadata": {
        "id": "Qbhqq3HinnKF"
      },
      "source": [
        "Well, it didn't really work when I used these parameters ... I kept everything except bootstrap = false though."
      ]
    },
    {
      "cell_type": "code",
      "metadata": {
        "id": "Tf_qd9I0oBZ0"
      },
      "source": [
        ""
      ],
      "execution_count": null,
      "outputs": []
    },
    {
      "cell_type": "markdown",
      "metadata": {
        "id": "5FlKxiXzq860"
      },
      "source": [
        "#### **Other Classifcation methods**"
      ]
    },
    {
      "cell_type": "markdown",
      "metadata": {
        "id": "E_Jjgtn5rC2I"
      },
      "source": [
        "I am not going to adress this but we could have tried Support Vector or K-Nearest Neighboors classifications."
      ]
    },
    {
      "cell_type": "markdown",
      "metadata": {
        "id": "QOOsLzWV2QHb"
      },
      "source": [
        "### **Conclusion**\n",
        "\n",
        "Developing a trading strategy from that is possible. For instance, it could be interesting to look if there is successive days ahead (or just a majority) with the same movement , and,  then decide to go long or short for this period.\n",
        "I believe that doing everyday trading by forecasting one day ahead generates too much cost.\n",
        "\n"
      ]
    }
  ]
}
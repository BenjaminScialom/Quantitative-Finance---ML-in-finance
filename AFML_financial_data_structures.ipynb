{
  "nbformat": 4,
  "nbformat_minor": 0,
  "metadata": {
    "colab": {
      "name": "AFML_financial_data structures.ipynb",
      "provenance": [],
      "collapsed_sections": [],
      "mount_file_id": "1dwWwHYxXo35cX9uIQIMn80Zxp1ugQP40",
      "authorship_tag": "ABX9TyM7FTWYLFQhmo9Sltf2WXKW",
      "include_colab_link": true
    },
    "kernelspec": {
      "name": "python3",
      "display_name": "Python 3"
    }
  },
  "cells": [
    {
      "cell_type": "markdown",
      "metadata": {
        "id": "view-in-github",
        "colab_type": "text"
      },
      "source": [
        "<a href=\"https://colab.research.google.com/github/BenjaminScialom/Quantitative-Finance---ML-in-finance/blob/master/AFML_financial_data_structures.ipynb\" target=\"_parent\"><img src=\"https://colab.research.google.com/assets/colab-badge.svg\" alt=\"Open In Colab\"/></a>"
      ]
    },
    {
      "cell_type": "markdown",
      "metadata": {
        "id": "EF2rB8LYQEbU"
      },
      "source": [
        "The purpose of the following methods is to transform a series of observations that arrive at irregular frequency \"inhommogenous series\" into \"homogenous\" series derived from regular sampling.\n",
        "\n",
        "**Time bars** are obtained by sampling information at fixed interval (for instance, every minute) and the information collected usually includes:\n",
        "\n",
        "* Timestamp\n",
        "* Volume\n",
        "* Open price \n",
        "* Close price\n",
        "* High price\n",
        "* Low price\n",
        "* Volume-weigthed average price\n",
        "\n",
        "Although time bars are very popular among practioners, they should be avoid because :\n",
        "\n",
        "\n",
        "\n",
        "1.   market do not process inforation at constant interval (more active at the opening and the closure)\n",
        "2.   Time-sampled series show poor statistical properties (non-normal returns, heteroscedasticity, serial correlation)\n",
        "\n",
        "**Tick bars:**\n",
        "\n",
        "The sample variables, named upper, are extracted each time a pre-defined number of transactions takes  place, so that, it synchronizes the sampling with a proxy of information arrival.\n",
        "\n",
        "Indeed, sampling allows us to achieve returns closer to IID normal distribution.\n",
        "\n",
        "One drawback is the arbitrariness in the number of ticks chosen.\n",
        "\n",
        "**Volume bars:**\n",
        "\n",
        "Volume bars tacles the issue raised by the arbitrariness introduced by tick bars by sampling a pre-defined amount of security's units have been exchanged\n",
        "\n",
        "**Dollar bars:**\n",
        "\n",
        "Dollar bars are formed by sampling an observation every time a pre-defined market value is exchanged. It could be in any currency let's be clear. In that way, the number of shares traded is function of the actual value exchanged."
      ]
    },
    {
      "cell_type": "code",
      "metadata": {
        "id": "8LhEJis5QZQP"
      },
      "source": [
        "import pandas as pd"
      ],
      "execution_count": 4,
      "outputs": []
    },
    {
      "cell_type": "code",
      "metadata": {
        "id": "_sI5ZothgKmr"
      },
      "source": [
        "# read tick data from http://www.kibot.com/support.aspx#data_format\n",
        "\n",
        "def read_kibot_ticks(fp):   \n",
        "    cols = list(map(str.lower,['Date','Time','Price','Bid','Ask','Size']))\n",
        "    df = (pd.read_csv(fp, header=None)\n",
        "          .rename(columns=dict(zip(range(len(cols)),cols)))\n",
        "          .assign(dates=lambda df: (pd.to_datetime(df['date']+df['time'],\n",
        "                                                  format='%m/%d/%Y%H:%M:%S')))\n",
        "          .assign(v=lambda df: df['size']) # volume\n",
        "          .assign(dv=lambda df: df['price']*df['size']) # dollar volume\n",
        "          .drop(['date','time'],axis=1)\n",
        "          .set_index('dates')\n",
        "          .drop_duplicates())\n",
        "    return df\n",
        "    "
      ],
      "execution_count": 2,
      "outputs": []
    },
    {
      "cell_type": "code",
      "metadata": {
        "id": "UEdlr0Ys1MRo",
        "colab": {
          "base_uri": "https://localhost:8080/",
          "height": 235
        },
        "outputId": "15c56767-91ff-44cd-8ee8-12f958f9a821"
      },
      "source": [
        "# import data file afteer mounting your drive (my data file is on the drive) and create the data frame \n",
        "\n",
        "df = read_kibot_ticks(\"/content/drive/MyDrive/Colab Notebooks/Advances_in_financial_machine_learning/IVE_tickbidask.txt\")\n",
        "df.head()"
      ],
      "execution_count": 10,
      "outputs": [
        {
          "output_type": "execute_result",
          "data": {
            "text/html": [
              "<div>\n",
              "<style scoped>\n",
              "    .dataframe tbody tr th:only-of-type {\n",
              "        vertical-align: middle;\n",
              "    }\n",
              "\n",
              "    .dataframe tbody tr th {\n",
              "        vertical-align: top;\n",
              "    }\n",
              "\n",
              "    .dataframe thead th {\n",
              "        text-align: right;\n",
              "    }\n",
              "</style>\n",
              "<table border=\"1\" class=\"dataframe\">\n",
              "  <thead>\n",
              "    <tr style=\"text-align: right;\">\n",
              "      <th></th>\n",
              "      <th>price</th>\n",
              "      <th>bid</th>\n",
              "      <th>ask</th>\n",
              "      <th>size</th>\n",
              "      <th>v</th>\n",
              "      <th>dv</th>\n",
              "    </tr>\n",
              "    <tr>\n",
              "      <th>dates</th>\n",
              "      <th></th>\n",
              "      <th></th>\n",
              "      <th></th>\n",
              "      <th></th>\n",
              "      <th></th>\n",
              "      <th></th>\n",
              "    </tr>\n",
              "  </thead>\n",
              "  <tbody>\n",
              "    <tr>\n",
              "      <th>2009-09-28 09:30:00</th>\n",
              "      <td>50.79</td>\n",
              "      <td>50.70</td>\n",
              "      <td>50.79</td>\n",
              "      <td>100</td>\n",
              "      <td>100</td>\n",
              "      <td>5079.00</td>\n",
              "    </tr>\n",
              "    <tr>\n",
              "      <th>2009-09-28 09:30:00</th>\n",
              "      <td>50.71</td>\n",
              "      <td>50.70</td>\n",
              "      <td>50.79</td>\n",
              "      <td>638</td>\n",
              "      <td>638</td>\n",
              "      <td>32352.98</td>\n",
              "    </tr>\n",
              "    <tr>\n",
              "      <th>2009-09-28 09:31:32</th>\n",
              "      <td>50.75</td>\n",
              "      <td>50.75</td>\n",
              "      <td>50.76</td>\n",
              "      <td>100</td>\n",
              "      <td>100</td>\n",
              "      <td>5075.00</td>\n",
              "    </tr>\n",
              "    <tr>\n",
              "      <th>2009-09-28 09:31:33</th>\n",
              "      <td>50.75</td>\n",
              "      <td>50.72</td>\n",
              "      <td>50.75</td>\n",
              "      <td>100</td>\n",
              "      <td>100</td>\n",
              "      <td>5075.00</td>\n",
              "    </tr>\n",
              "    <tr>\n",
              "      <th>2009-09-28 09:31:50</th>\n",
              "      <td>50.75</td>\n",
              "      <td>50.73</td>\n",
              "      <td>50.76</td>\n",
              "      <td>300</td>\n",
              "      <td>300</td>\n",
              "      <td>15225.00</td>\n",
              "    </tr>\n",
              "  </tbody>\n",
              "</table>\n",
              "</div>"
            ],
            "text/plain": [
              "                     price    bid    ask  size    v        dv\n",
              "dates                                                        \n",
              "2009-09-28 09:30:00  50.79  50.70  50.79   100  100   5079.00\n",
              "2009-09-28 09:30:00  50.71  50.70  50.79   638  638  32352.98\n",
              "2009-09-28 09:31:32  50.75  50.75  50.76   100  100   5075.00\n",
              "2009-09-28 09:31:33  50.75  50.72  50.75   100  100   5075.00\n",
              "2009-09-28 09:31:50  50.75  50.73  50.76   300  300  15225.00"
            ]
          },
          "metadata": {
            "tags": []
          },
          "execution_count": 10
        }
      ]
    },
    {
      "cell_type": "code",
      "metadata": {
        "colab": {
          "base_uri": "https://localhost:8080/",
          "height": 350
        },
        "id": "y0G7WYd-YzUS",
        "outputId": "bff356c4-76d6-400b-961d-9008d9278043"
      },
      "source": [
        "import seaborn as sns\n",
        "sns.boxplot(df.price)"
      ],
      "execution_count": 12,
      "outputs": [
        {
          "output_type": "stream",
          "text": [
            "/usr/local/lib/python3.6/dist-packages/seaborn/_decorators.py:43: FutureWarning: Pass the following variable as a keyword arg: x. From version 0.12, the only valid positional argument will be `data`, and passing other arguments without an explicit keyword will result in an error or misinterpretation.\n",
            "  FutureWarning\n"
          ],
          "name": "stderr"
        },
        {
          "output_type": "execute_result",
          "data": {
            "text/plain": [
              "<matplotlib.axes._subplots.AxesSubplot at 0x7f5b09d4edd8>"
            ]
          },
          "metadata": {
            "tags": []
          },
          "execution_count": 12
        },
        {
          "output_type": "display_data",
          "data": {
            "image/png": "[encoded data removed]",
            "text/plain": [
              "<Figure size 432x288 with 1 Axes>"
            ]
          },
          "metadata": {
            "tags": [],
            "needs_background": "light"
          }
        }
      ]
    },
    {
      "cell_type": "markdown",
      "metadata": {
        "id": "TBs5yZl3YUQl"
      },
      "source": [
        "By synchronizing sampling with the arrival of informed traders , we may be able to make decisionsbefore prices reach a new equilibrium level."
      ]
    }
  ]
}
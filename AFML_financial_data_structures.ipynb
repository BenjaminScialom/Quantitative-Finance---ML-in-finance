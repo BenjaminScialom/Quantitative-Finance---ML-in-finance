{
  "nbformat": 4,
  "nbformat_minor": 0,
  "metadata": {
    "colab": {
      "name": "AFML_financial_data structures.ipynb",
      "provenance": [],
      "collapsed_sections": [],
      "toc_visible": true
    },
    "kernelspec": {
      "name": "python3",
      "display_name": "Python 3"
    }
  },
  "cells": [
    {
      "cell_type": "markdown",
      "metadata": {
        "id": "EF2rB8LYQEbU"
      },
      "source": [
        "The purpose of the following methods is to transform a series of observations that arrive at irregular frequency \"inhommogenous series\" into \"homogenous\" series derived from regular sampling.\n",
        "\n",
        "**Time bars** are obtained by sampling information at fixed interval (for instance, every minute) and the information collected usually includes:\n",
        "\n",
        "* Timestamp\n",
        "* Volume\n",
        "* Open price \n",
        "* Close price\n",
        "* High price\n",
        "* Low price\n",
        "* Volume-weigthed average price\n",
        "\n",
        "Although time bars are very popular among practioners, they should be avoid because :\n",
        "\n",
        "\n",
        "\n",
        "1.   market do not process inforation at constant interval (more active at the opening and the closure)\n",
        "2.   Time-sampled series show poor statistical properties (non-normal returns, heteroscedasticity, serial correlation)\n",
        "\n",
        "**Tick bars:**\n",
        "\n",
        "The sample variables, named upper, are extracted each time a pre-defined number of transactions takes  place, so that, it synchronizes the sampling with a proxy of information arrival.\n",
        "\n",
        "Indeed, sampling allows us to achieve returns closer to IID normal distribution.\n",
        "\n",
        "One drawback is the arbitrariness in the number of ticks chosen.\n",
        "\n",
        "**Volume bars:**\n",
        "\n",
        "Volume bars tacles the issue raised by the arbitrariness introduced by tick bars by sampling a pre-defined amount of security's units have been exchanged\n",
        "\n",
        "**Dollar bars:**\n",
        "\n",
        "Dollar bars are formed by sampling an observation every time a pre-defined market value is exchanged. It could be in any currency let's be clear. In that way, the number of shares traded is function of the actual value exchanged."
      ]
    },
    {
      "cell_type": "code",
      "metadata": {
        "id": "8LhEJis5QZQP"
      },
      "source": [
        "import pandas as pd\n",
        "import numpy as np\n",
        "import seaborn as sns\n",
        "from scipy import stats\n",
        "from tqdm import tqdm\n",
        "import matplotlib.pyplot as plt\n"
      ],
      "execution_count": 56,
      "outputs": []
    },
    {
      "cell_type": "markdown",
      "metadata": {
        "id": "fHlAFmZCVFOa"
      },
      "source": [
        "### **Import dataset**"
      ]
    },
    {
      "cell_type": "code",
      "metadata": {
        "id": "_sI5ZothgKmr"
      },
      "source": [
        "# read tick data from http://www.kibot.com/support.aspx#data_format\n",
        "\n",
        "def read_kibot_ticks(fp):   \n",
        "    cols = list(map(str.lower,['Date','Time','Price','Bid','Ask','Size']))\n",
        "    df = (pd.read_csv(fp, header=None)\n",
        "          .rename(columns=dict(zip(range(len(cols)),cols)))\n",
        "          .assign(dates=lambda df: (pd.to_datetime(df['date']+df['time'],\n",
        "                                                  format='%m/%d/%Y%H:%M:%S')))\n",
        "          .assign(v=lambda df: df['size']) # volume\n",
        "          .assign(dv=lambda df: df['price']*df['size']) # dollar volume\n",
        "          .drop(['date','time'],axis=1)\n",
        "          .set_index('dates')\n",
        "          .drop_duplicates())\n",
        "    return df\n",
        "    "
      ],
      "execution_count": 3,
      "outputs": []
    },
    {
      "cell_type": "code",
      "metadata": {
        "id": "UEdlr0Ys1MRo",
        "colab": {
          "base_uri": "https://localhost:8080/",
          "height": 235
        },
        "outputId": "038cd5cf-28b6-46d0-869a-e0a7a7a1cfa1"
      },
      "source": [
        "# import data file afteer mounting your drive (my data file is on the drive) and create the data frame \n",
        "\n",
        "df = read_kibot_ticks(\"/content/drive/MyDrive/Colab Notebooks/Advances_in_financial_machine_learning/IVE_tickbidask.txt\")\n",
        "df.head()"
      ],
      "execution_count": 4,
      "outputs": [
        {
          "output_type": "execute_result",
          "data": {
            "text/html": [
              "<div>\n",
              "<style scoped>\n",
              "    .dataframe tbody tr th:only-of-type {\n",
              "        vertical-align: middle;\n",
              "    }\n",
              "\n",
              "    .dataframe tbody tr th {\n",
              "        vertical-align: top;\n",
              "    }\n",
              "\n",
              "    .dataframe thead th {\n",
              "        text-align: right;\n",
              "    }\n",
              "</style>\n",
              "<table border=\"1\" class=\"dataframe\">\n",
              "  <thead>\n",
              "    <tr style=\"text-align: right;\">\n",
              "      <th></th>\n",
              "      <th>price</th>\n",
              "      <th>bid</th>\n",
              "      <th>ask</th>\n",
              "      <th>size</th>\n",
              "      <th>v</th>\n",
              "      <th>dv</th>\n",
              "    </tr>\n",
              "    <tr>\n",
              "      <th>dates</th>\n",
              "      <th></th>\n",
              "      <th></th>\n",
              "      <th></th>\n",
              "      <th></th>\n",
              "      <th></th>\n",
              "      <th></th>\n",
              "    </tr>\n",
              "  </thead>\n",
              "  <tbody>\n",
              "    <tr>\n",
              "      <th>2009-09-28 09:30:00</th>\n",
              "      <td>50.79</td>\n",
              "      <td>50.70</td>\n",
              "      <td>50.79</td>\n",
              "      <td>100</td>\n",
              "      <td>100</td>\n",
              "      <td>5079.00</td>\n",
              "    </tr>\n",
              "    <tr>\n",
              "      <th>2009-09-28 09:30:00</th>\n",
              "      <td>50.71</td>\n",
              "      <td>50.70</td>\n",
              "      <td>50.79</td>\n",
              "      <td>638</td>\n",
              "      <td>638</td>\n",
              "      <td>32352.98</td>\n",
              "    </tr>\n",
              "    <tr>\n",
              "      <th>2009-09-28 09:31:32</th>\n",
              "      <td>50.75</td>\n",
              "      <td>50.75</td>\n",
              "      <td>50.76</td>\n",
              "      <td>100</td>\n",
              "      <td>100</td>\n",
              "      <td>5075.00</td>\n",
              "    </tr>\n",
              "    <tr>\n",
              "      <th>2009-09-28 09:31:33</th>\n",
              "      <td>50.75</td>\n",
              "      <td>50.72</td>\n",
              "      <td>50.75</td>\n",
              "      <td>100</td>\n",
              "      <td>100</td>\n",
              "      <td>5075.00</td>\n",
              "    </tr>\n",
              "    <tr>\n",
              "      <th>2009-09-28 09:31:50</th>\n",
              "      <td>50.75</td>\n",
              "      <td>50.73</td>\n",
              "      <td>50.76</td>\n",
              "      <td>300</td>\n",
              "      <td>300</td>\n",
              "      <td>15225.00</td>\n",
              "    </tr>\n",
              "  </tbody>\n",
              "</table>\n",
              "</div>"
            ],
            "text/plain": [
              "                     price    bid    ask  size    v        dv\n",
              "dates                                                        \n",
              "2009-09-28 09:30:00  50.79  50.70  50.79   100  100   5079.00\n",
              "2009-09-28 09:30:00  50.71  50.70  50.79   638  638  32352.98\n",
              "2009-09-28 09:31:32  50.75  50.75  50.76   100  100   5075.00\n",
              "2009-09-28 09:31:33  50.75  50.72  50.75   100  100   5075.00\n",
              "2009-09-28 09:31:50  50.75  50.73  50.76   300  300  15225.00"
            ]
          },
          "metadata": {
            "tags": []
          },
          "execution_count": 4
        }
      ]
    },
    {
      "cell_type": "code",
      "metadata": {
        "colab": {
          "base_uri": "https://localhost:8080/",
          "height": 350
        },
        "id": "y0G7WYd-YzUS",
        "outputId": "63dc1191-b3ee-4b2d-a54e-93f89608b603"
      },
      "source": [
        "\n",
        "sns.boxplot(df.price)"
      ],
      "execution_count": 5,
      "outputs": [
        {
          "output_type": "stream",
          "text": [
            "/usr/local/lib/python3.6/dist-packages/seaborn/_decorators.py:43: FutureWarning: Pass the following variable as a keyword arg: x. From version 0.12, the only valid positional argument will be `data`, and passing other arguments without an explicit keyword will result in an error or misinterpretation.\n",
            "  FutureWarning\n"
          ],
          "name": "stderr"
        },
        {
          "output_type": "execute_result",
          "data": {
            "text/plain": [
              "<matplotlib.axes._subplots.AxesSubplot at 0x7f1150a64ac8>"
            ]
          },
          "metadata": {
            "tags": []
          },
          "execution_count": 5
        },
        {
          "output_type": "display_data",
          "data": {
            "image/png": "[encoded data removed]",
            "text/plain": [
              "<Figure size 432x288 with 1 Axes>"
            ]
          },
          "metadata": {
            "tags": [],
            "needs_background": "light"
          }
        }
      ]
    },
    {
      "cell_type": "markdown",
      "metadata": {
        "id": "CejJ8QDVS46I"
      },
      "source": [
        "On this box plot, we can clearly see outliers. Our frist is to take care of them."
      ]
    },
    {
      "cell_type": "markdown",
      "metadata": {
        "id": "fuViztCmV9jK"
      },
      "source": [
        "### **Outliers detection and correction:**"
      ]
    },
    {
      "cell_type": "markdown",
      "metadata": {
        "id": "RYI2DEuqWJ5T"
      },
      "source": [
        "How? while calculating the Z-score we re-scale and center the data and look for data points which are too far from zero. These data points which are way too far from zero will be treated as the outliers. In most of the cases a threshold of 3 or -3 is used i.e if the Z-score value is greater than or less than 3 or -3 respectively, that data point will be identified as outliers.\n",
        "\n",
        "The Z-score is the signed number of standard deviations by which the value of an observation or data point is above the mean value of what is being observed or measured."
      ]
    },
    {
      "cell_type": "code",
      "metadata": {
        "id": "_sGVucriS3Uu"
      },
      "source": [
        "def outliers_detection(y):\n",
        "  z = np.abs(stats.zscore(y))\n",
        "  threshold = 3\n",
        "  return np.where(z > threshold)"
      ],
      "execution_count": 6,
      "outputs": []
    },
    {
      "cell_type": "code",
      "metadata": {
        "colab": {
          "base_uri": "https://localhost:8080/",
          "height": 421
        },
        "id": "gG5dCPjXZjPg",
        "outputId": "bf7dd7d1-ec3c-4074-8a16-e2e27859189d"
      },
      "source": [
        "outliers = outliers_detection(df.price.values.reshape(-1,1))\n",
        "df.iloc[outliers[0]]"
      ],
      "execution_count": 7,
      "outputs": [
        {
          "output_type": "execute_result",
          "data": {
            "text/html": [
              "<div>\n",
              "<style scoped>\n",
              "    .dataframe tbody tr th:only-of-type {\n",
              "        vertical-align: middle;\n",
              "    }\n",
              "\n",
              "    .dataframe tbody tr th {\n",
              "        vertical-align: top;\n",
              "    }\n",
              "\n",
              "    .dataframe thead th {\n",
              "        text-align: right;\n",
              "    }\n",
              "</style>\n",
              "<table border=\"1\" class=\"dataframe\">\n",
              "  <thead>\n",
              "    <tr style=\"text-align: right;\">\n",
              "      <th></th>\n",
              "      <th>price</th>\n",
              "      <th>bid</th>\n",
              "      <th>ask</th>\n",
              "      <th>size</th>\n",
              "      <th>v</th>\n",
              "      <th>dv</th>\n",
              "    </tr>\n",
              "    <tr>\n",
              "      <th>dates</th>\n",
              "      <th></th>\n",
              "      <th></th>\n",
              "      <th></th>\n",
              "      <th></th>\n",
              "      <th></th>\n",
              "      <th></th>\n",
              "    </tr>\n",
              "  </thead>\n",
              "  <tbody>\n",
              "    <tr>\n",
              "      <th>2010-05-06 14:49:07</th>\n",
              "      <td>0.11</td>\n",
              "      <td>0.10</td>\n",
              "      <td>44.03</td>\n",
              "      <td>500</td>\n",
              "      <td>500</td>\n",
              "      <td>55.0</td>\n",
              "    </tr>\n",
              "    <tr>\n",
              "      <th>2010-05-06 14:53:30</th>\n",
              "      <td>1.10</td>\n",
              "      <td>1.10</td>\n",
              "      <td>30.28</td>\n",
              "      <td>2600</td>\n",
              "      <td>2600</td>\n",
              "      <td>2860.0</td>\n",
              "    </tr>\n",
              "    <tr>\n",
              "      <th>2010-05-06 14:55:32</th>\n",
              "      <td>1.10</td>\n",
              "      <td>1.10</td>\n",
              "      <td>50.57</td>\n",
              "      <td>300</td>\n",
              "      <td>300</td>\n",
              "      <td>330.0</td>\n",
              "    </tr>\n",
              "    <tr>\n",
              "      <th>2010-05-06 14:55:32</th>\n",
              "      <td>1.10</td>\n",
              "      <td>1.10</td>\n",
              "      <td>50.57</td>\n",
              "      <td>100</td>\n",
              "      <td>100</td>\n",
              "      <td>110.0</td>\n",
              "    </tr>\n",
              "    <tr>\n",
              "      <th>2010-05-06 14:55:32</th>\n",
              "      <td>1.10</td>\n",
              "      <td>1.00</td>\n",
              "      <td>50.57</td>\n",
              "      <td>200</td>\n",
              "      <td>200</td>\n",
              "      <td>220.0</td>\n",
              "    </tr>\n",
              "    <tr>\n",
              "      <th>2010-05-06 14:55:32</th>\n",
              "      <td>1.10</td>\n",
              "      <td>1.00</td>\n",
              "      <td>50.57</td>\n",
              "      <td>700</td>\n",
              "      <td>700</td>\n",
              "      <td>770.0</td>\n",
              "    </tr>\n",
              "    <tr>\n",
              "      <th>2010-05-06 14:55:32</th>\n",
              "      <td>1.10</td>\n",
              "      <td>1.00</td>\n",
              "      <td>50.57</td>\n",
              "      <td>1200</td>\n",
              "      <td>1200</td>\n",
              "      <td>1320.0</td>\n",
              "    </tr>\n",
              "    <tr>\n",
              "      <th>2010-05-06 14:55:32</th>\n",
              "      <td>1.10</td>\n",
              "      <td>0.55</td>\n",
              "      <td>50.57</td>\n",
              "      <td>500</td>\n",
              "      <td>500</td>\n",
              "      <td>550.0</td>\n",
              "    </tr>\n",
              "    <tr>\n",
              "      <th>2010-05-06 14:55:32</th>\n",
              "      <td>1.10</td>\n",
              "      <td>0.55</td>\n",
              "      <td>50.57</td>\n",
              "      <td>100</td>\n",
              "      <td>100</td>\n",
              "      <td>110.0</td>\n",
              "    </tr>\n",
              "    <tr>\n",
              "      <th>2010-05-06 14:55:32</th>\n",
              "      <td>1.10</td>\n",
              "      <td>0.55</td>\n",
              "      <td>50.57</td>\n",
              "      <td>200</td>\n",
              "      <td>200</td>\n",
              "      <td>220.0</td>\n",
              "    </tr>\n",
              "    <tr>\n",
              "      <th>2010-05-06 14:55:32</th>\n",
              "      <td>1.10</td>\n",
              "      <td>0.55</td>\n",
              "      <td>50.57</td>\n",
              "      <td>800</td>\n",
              "      <td>800</td>\n",
              "      <td>880.0</td>\n",
              "    </tr>\n",
              "  </tbody>\n",
              "</table>\n",
              "</div>"
            ],
            "text/plain": [
              "                     price   bid    ask  size     v      dv\n",
              "dates                                                      \n",
              "2010-05-06 14:49:07   0.11  0.10  44.03   500   500    55.0\n",
              "2010-05-06 14:53:30   1.10  1.10  30.28  2600  2600  2860.0\n",
              "2010-05-06 14:55:32   1.10  1.10  50.57   300   300   330.0\n",
              "2010-05-06 14:55:32   1.10  1.10  50.57   100   100   110.0\n",
              "2010-05-06 14:55:32   1.10  1.00  50.57   200   200   220.0\n",
              "2010-05-06 14:55:32   1.10  1.00  50.57   700   700   770.0\n",
              "2010-05-06 14:55:32   1.10  1.00  50.57  1200  1200  1320.0\n",
              "2010-05-06 14:55:32   1.10  0.55  50.57   500   500   550.0\n",
              "2010-05-06 14:55:32   1.10  0.55  50.57   100   100   110.0\n",
              "2010-05-06 14:55:32   1.10  0.55  50.57   200   200   220.0\n",
              "2010-05-06 14:55:32   1.10  0.55  50.57   800   800   880.0"
            ]
          },
          "metadata": {
            "tags": []
          },
          "execution_count": 7
        }
      ]
    },
    {
      "cell_type": "code",
      "metadata": {
        "colab": {
          "base_uri": "https://localhost:8080/",
          "height": 350
        },
        "id": "ypO2Ind0dFtO",
        "outputId": "e72b42a5-1343-4e2d-9bc7-d25b39f118c1"
      },
      "source": [
        "indexes_to_keep = set(range(df.shape[0])) - set(outliers[0])\n",
        "df_sliced = df.take(list(indexes_to_keep))\n",
        "sns.boxplot(df_sliced.price)"
      ],
      "execution_count": 8,
      "outputs": [
        {
          "output_type": "stream",
          "text": [
            "/usr/local/lib/python3.6/dist-packages/seaborn/_decorators.py:43: FutureWarning: Pass the following variable as a keyword arg: x. From version 0.12, the only valid positional argument will be `data`, and passing other arguments without an explicit keyword will result in an error or misinterpretation.\n",
            "  FutureWarning\n"
          ],
          "name": "stderr"
        },
        {
          "output_type": "execute_result",
          "data": {
            "text/plain": [
              "<matplotlib.axes._subplots.AxesSubplot at 0x7f1152668908>"
            ]
          },
          "metadata": {
            "tags": []
          },
          "execution_count": 8
        },
        {
          "output_type": "display_data",
          "data": {
            "image/png": "[encoded data removed]",
            "text/plain": [
              "<Figure size 432x288 with 1 Axes>"
            ]
          },
          "metadata": {
            "tags": [],
            "needs_background": "light"
          }
        }
      ]
    },
    {
      "cell_type": "markdown",
      "metadata": {
        "id": "RF-Py-4viTi7"
      },
      "source": [
        "When constructing tick bars, you need to be aware of outliers. Many exchanges carry out auction at the open and an auction at the close. This means that for a period of time , the order book accumulates bids and offers without matching them.\n",
        "\n",
        "It results in a large trade at the end of the auction at the clearing price. Becareful it could represents lots of ticks but be reported as one tick..."
      ]
    },
    {
      "cell_type": "markdown",
      "metadata": {
        "id": "9lyxJ1WfjewY"
      },
      "source": [
        "### **Tick, volume and dollar bars:**"
      ]
    },
    {
      "cell_type": "code",
      "metadata": {
        "colab": {
          "base_uri": "https://localhost:8080/"
        },
        "id": "ZGRxsnPvAub0",
        "outputId": "9167301f-42b6-43be-a63f-7fbb4dd2296a"
      },
      "source": [
        "total_ticks = len(df)\n",
        "print(f'num ticks: {total_ticks:,}')\n",
        "\n",
        "volume_ratio = (df.v.sum()/total_ticks).round()\n",
        "dollar_ratio = (df.dv.sum()/total_ticks).round()\n",
        "print(f'volume ratio: {volume_ratio}')\n",
        "print(f'dollar ratio: {dollar_ratio}')"
      ],
      "execution_count": 17,
      "outputs": [
        {
          "output_type": "stream",
          "text": [
            "num ticks: 2,005,379\n",
            "volume ratio: 542.0\n",
            "dollar ratio: 49997.0\n"
          ],
          "name": "stdout"
        }
      ]
    },
    {
      "cell_type": "code",
      "metadata": {
        "id": "sfBedfqeDOxb"
      },
      "source": [
        "# compute tick bars for the data frame\n",
        "def tick_bars(df,M):\n",
        "    '''\n",
        "    # args\n",
        "        df: pd.DataFrame()\n",
        "        M: threshold value for ticks determined in the cell upper\n",
        "    # returns\n",
        "        idx: list of indices (where to sample)\n",
        "    '''\n",
        "\n",
        "    price = df['price']\n",
        "    tc = 0 #tick counter\n",
        "    idx = []\n",
        "\n",
        "    for i,x in enumerate(tqdm(price)):\n",
        "        tc += 1\n",
        "        if tc >= M:\n",
        "            idx.append(i)\n",
        "            tc = 0\n",
        "            continue\n",
        "\n",
        "    return df.iloc[idx].drop_duplicates()"
      ],
      "execution_count": 31,
      "outputs": []
    },
    {
      "cell_type": "code",
      "metadata": {
        "colab": {
          "base_uri": "https://localhost:8080/"
        },
        "id": "N9dpVaEHFRDk",
        "outputId": "e9dc1242-ae31-490c-ba63-be4d70cee0b0"
      },
      "source": [
        "tbdf = tick_bars(df,100)"
      ],
      "execution_count": 38,
      "outputs": [
        {
          "output_type": "stream",
          "text": [
            "100%|██████████| 2005379/2005379 [00:00<00:00, 2512792.75it/s]\n"
          ],
          "name": "stderr"
        }
      ]
    },
    {
      "cell_type": "code",
      "metadata": {
        "colab": {
          "base_uri": "https://localhost:8080/"
        },
        "id": "Id0nZ88_HR5R",
        "outputId": "5dc9cb2d-faa4-42ab-f11d-03e78d9e898c"
      },
      "source": [
        "print(tbdf.shape)\n",
        "print(df.shape)"
      ],
      "execution_count": 39,
      "outputs": [
        {
          "output_type": "stream",
          "text": [
            "(20053, 6)\n",
            "(2005379, 6)\n"
          ],
          "name": "stdout"
        }
      ]
    },
    {
      "cell_type": "code",
      "metadata": {
        "id": "j_IdT68xIbPi"
      },
      "source": [
        "def data_sample(df, tbdf, date):\n",
        "    '''\n",
        "    returns\n",
        "        sample_df: ref pd.Series\n",
        "        sample_dftb: subordinated pd.Series\n",
        "    '''\n",
        "    sdf = df.price.loc[date]\n",
        "    stbdf = tbdf.price.loc[date]\n",
        "    return sdf, stbdf"
      ],
      "execution_count": 53,
      "outputs": []
    },
    {
      "cell_type": "code",
      "metadata": {
        "id": "PgwpSNhXIfil"
      },
      "source": [
        "def plot_data_sample(sampled_df, sampled_tbdf, bar_type, *args, **kwds):\n",
        "    f,axes=plt.subplots(3,sharex=True, sharey=True, figsize=(10,7))\n",
        "    sampled_df.plot(*args, **kwds, ax=axes[0], label='price')\n",
        "    sampled_tbdf.plot(*args, **kwds, ax=axes[0], marker='X', ls='', label=bar_type)\n",
        "    axes[0].legend();\n",
        "    \n",
        "    sampled_df.plot(*args, **kwds, ax=axes[1], label='price', marker='o')\n",
        "    sampled_tbdf.plot(*args, **kwds, ax=axes[2], ls='', marker='X',\n",
        "             color='r', label=bar_type)\n",
        "\n",
        "    for ax in axes[1:]: ax.legend()\n",
        "    plt.tight_layout()\n",
        "    \n",
        "    return\n",
        "\n"
      ],
      "execution_count": 58,
      "outputs": []
    },
    {
      "cell_type": "code",
      "metadata": {
        "colab": {
          "base_uri": "https://localhost:8080/",
          "height": 513
        },
        "id": "v5tzAbHSJe8j",
        "outputId": "872dfa41-c79d-4a9f-d9f2-9ce3a80d7ae9"
      },
      "source": [
        "date ='2012-06-22'  #yyy-mm-dd\n",
        "sdf, stbdf = data_sample(df, tbdf, date)\n",
        "\n",
        "plot_data_sample(sdf, stbdf, 'tick bar', alpha=0.5, markersize=7)"
      ],
      "execution_count": 59,
      "outputs": [
        {
          "output_type": "display_data",
          "data": {
            "image/png": "[encoded data removed]",
            "text/plain": [
              "<Figure size 720x504 with 3 Axes>"
            ]
          },
          "metadata": {
            "tags": [],
            "needs_background": "light"
          }
        }
      ]
    },
    {
      "cell_type": "markdown",
      "metadata": {
        "id": "TBs5yZl3YUQl"
      },
      "source": [
        "By synchronizing sampling with the arrival of informed traders , we may be able to make decisionsbefore prices reach a new equilibrium level."
      ]
    }
  ]
}
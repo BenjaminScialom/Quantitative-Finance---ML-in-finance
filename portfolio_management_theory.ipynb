{
  "nbformat": 4,
  "nbformat_minor": 0,
  "metadata": {
    "colab": {
      "name": "portfolio_management theory.ipynb",
      "provenance": [],
      "collapsed_sections": [
        "cCZm-Y63GzUm"
      ]
    },
    "kernelspec": {
      "name": "python3",
      "display_name": "Python 3"
    }
  },
  "cells": [
    {
      "cell_type": "code",
      "metadata": {
        "id": "XUTX85GwH7Yn"
      },
      "source": [
        "import pandas as pd\n",
        "import numpy as np\n",
        "\n",
        " !pip install yfinance\n",
        "import yfinance as yf\n"
      ],
      "execution_count": null,
      "outputs": []
    },
    {
      "cell_type": "markdown",
      "metadata": {
        "id": "cCZm-Y63GzUm"
      },
      "source": [
        "### **Mathematical Background:**"
      ]
    },
    {
      "cell_type": "markdown",
      "metadata": {
        "id": "8CLX55zpDxZ9"
      },
      "source": [
        "The covariance of an asset with a portfolio is the weighted average of asset's covariance to all the asset making up the portfolio.\n",
        "\n",
        "$Cov(R_1,R_P) = Cov(R_1, w_1R_1 + w_2R_2) = w_1Cov(R_1,R_1) + w_2Cov(R_1,R_2) $"
      ]
    },
    {
      "cell_type": "markdown",
      "metadata": {
        "id": "zg1SWq7lEzu4"
      },
      "source": [
        "Portfolio variance is given by:\n",
        "$ Var(R_p) = \\sigma^2 = w'\\Omega w $ ,  \n",
        "where $\\Omega$ is the covariance matrix of the return.\n",
        "The **volatility** is given by the square root of the variance."
      ]
    },
    {
      "cell_type": "markdown",
      "metadata": {
        "id": "_qajN6C7GlfO"
      },
      "source": [
        "## **Mean-Variance model**"
      ]
    },
    {
      "cell_type": "markdown",
      "metadata": {
        "id": "NdXMEhAgEgGi"
      },
      "source": [
        "Markowitz's theory make 3 key assumptions:\n",
        "\n",
        "\n",
        "*   Allocation is done by rational investors ( for the same return , they will choose the one with the lowest variance)\n",
        "*   Capital markets are perfect\n",
        "*   Returns are **normally distributed**\"\n",
        "\n",
        "Idealy, investors seek to reduce variance by diversifying their portfolio investments. Here, I will propose an arbitrary portfolio, made of SP500 companies, which is diversified across sectors (industries).\n",
        "\n",
        "According to Markowitz, the level of investment in a particular financial asset should be based upon that assets' contribution to the distribution of the overall portfolio (covariability of assets' returns.\n",
        "\n",
        "The efficient frontier represents the optimal retuns for each level of risk ($\\sigma$).\n",
        "Along the efficient frontier, the only way to achieve higher expected returns is by increasing the riskiness of the portfolio ($\\sigma$).\n",
        "\n",
        "A critical input to the mean-variance model is the estimated correlation between assets (even more if using ETF).\n",
        "\n"
      ]
    },
    {
      "cell_type": "markdown",
      "metadata": {
        "id": "rH2CvpisHOhj"
      },
      "source": [
        "## **Capital Asset Pricing Model: (CAPM)**\n",
        "\n"
      ]
    },
    {
      "cell_type": "markdown",
      "metadata": {
        "id": "GcWlyi8SHSOG"
      },
      "source": [
        "CAPM shows the relation between the risk and expected return of a risky asset. The risky asset can be decomposed into 2 components: \n",
        "\n",
        "\n",
        "1.   Systematic risk = market risk (non-diversifiable)\n",
        "2.   Specific risk = asset risk (diversifiable)\n",
        "\n",
        "The CAPM demonstrates that by combining assets into a portfolio, each assets' unique risk can be eliminated. This leaves market risk as the portfolio's sole exposure.\n",
        "\n",
        "CAPM requires solid asumptions:\n",
        "\n",
        "\n",
        "*   Access to information for all participant equally\n",
        "*   All participant make investment based on the mean and variance of returns (particulary false for retail traders by the way)\n",
        "*   No frictions (taxes, cost etc ..) -> I wish\n",
        "*   All participant can lend and borrow at a common risk free rate ( 3-month US treasury bond rate)\n",
        "* Any individual investor's allocation cannot change the market prices\n",
        "\n",
        "In this model, each investor's portfolio is  combination of assests specific risk and systematic risk.\n",
        "\n",
        "Given an asset, its systematic risk is given by $\\beta_i$ and is calculated as:\n",
        "\n",
        "$\\beta_i = \\frac{cov(R_i, R_m)}{\\sigma_m^2}$\n",
        "\n",
        "It is very common to take the variance of the index for the market variance (ie: $\\sigma_{SP500} = \\sigma_m$) although subject to debate in the litterature.\n",
        "\n",
        "\n",
        "\n"
      ]
    },
    {
      "cell_type": "code",
      "metadata": {
        "id": "Sz9oqJ2MDvCu"
      },
      "source": [
        "Tickers = ['NOW', 'AMD', 'FOX', 'JPM', 'MSCI', 'GE', 'RMD', 'BIO', 'APD', 'REG', 'MPC', 'BKNG'] #my portfolio tickers (arbitrary in SP500 list)\n",
        "historical_data = yf.download(tickers= Tickers, period = \"3y\",group_by='ticker')"
      ],
      "execution_count": null,
      "outputs": []
    }
  ]
}